{
 "cells": [
  {
   "cell_type": "code",
   "execution_count": 1,
   "id": "82e1b032",
   "metadata": {},
   "outputs": [
    {
     "name": "stdout",
     "output_type": "stream",
     "text": [
      "Hello world2!\n"
     ]
    }
   ],
   "source": [
    "print(\"Hello world2!\")"
   ]
  },
  {
   "cell_type": "code",
   "execution_count": 2,
   "id": "9352c8a3",
   "metadata": {},
   "outputs": [
    {
     "name": "stdout",
     "output_type": "stream",
     "text": [
      "Hello, John! How are you?\n"
     ]
    }
   ],
   "source": [
    "print(\"Hello,\", \"John!\", \"How are you?\")"
   ]
  },
  {
   "cell_type": "code",
   "execution_count": 3,
   "id": "e470da2b",
   "metadata": {},
   "outputs": [
    {
     "name": "stdout",
     "output_type": "stream",
     "text": [
      "1 plus 2 equals 3\n"
     ]
    }
   ],
   "source": [
    "print(1, \"plus\", 2, \"equals\", 1+2)"
   ]
  },
  {
   "cell_type": "code",
   "execution_count": 4,
   "id": "bc99b734",
   "metadata": {},
   "outputs": [
    {
     "name": "stdout",
     "output_type": "stream",
     "text": [
      "Give me your name: Darth Rev\n",
      "Hello, Darth Rev\n"
     ]
    }
   ],
   "source": [
    "name=input(\"Give me your name: \")\n",
    "print(\"Hello,\", name)"
   ]
  },
  {
   "cell_type": "code",
   "execution_count": 5,
   "id": "aec0b42a",
   "metadata": {},
   "outputs": [
    {
     "name": "stdout",
     "output_type": "stream",
     "text": [
      "Hello\n",
      "Hello\n",
      "Hello\n",
      "Bye!\n"
     ]
    }
   ],
   "source": [
    "for i in range(3):\n",
    "    print(\"Hello\")\n",
    "print(\"Bye!\")"
   ]
  },
  {
   "cell_type": "code",
   "execution_count": 6,
   "id": "df799a8a",
   "metadata": {},
   "outputs": [
    {
     "name": "stdout",
     "output_type": "stream",
     "text": [
      "Hello, world!\n"
     ]
    }
   ],
   "source": [
    "print(\"Hello, world!\")"
   ]
  },
  {
   "cell_type": "code",
   "execution_count": 3,
   "id": "59ce174f",
   "metadata": {},
   "outputs": [
    {
     "name": "stdout",
     "output_type": "stream",
     "text": [
      "Hello what country are you from?Chile\n",
      "I have heard that Chile is a beautiful country.\n"
     ]
    }
   ],
   "source": [
    "country=input(\"Hello what country are you from?\")\n",
    "print(\"I have heard that\", country, \"is a beautiful country.\")"
   ]
  },
  {
   "cell_type": "code",
   "execution_count": 6,
   "id": "9bedf442",
   "metadata": {},
   "outputs": [
    {
     "name": "stdout",
     "output_type": "stream",
     "text": [
      "4 multiplied by 0 is 0\n",
      "4 multiplied by 1 is 4\n",
      "4 multiplied by 2 is 8\n",
      "4 multiplied by 3 is 12\n",
      "4 multiplied by 4 is 16\n",
      "4 multiplied by 5 is 20\n",
      "4 multiplied by 6 is 24\n",
      "4 multiplied by 7 is 28\n",
      "4 multiplied by 8 is 32\n",
      "4 multiplied by 9 is 36\n",
      "4 multiplied by 10 is 40\n"
     ]
    }
   ],
   "source": [
    "for i in range(11):\n",
    "    print(\"4 multiplied by\", i, \"is\", 4*i)"
   ]
  },
  {
   "cell_type": "code",
   "execution_count": 7,
   "id": "1ac08fe7",
   "metadata": {},
   "outputs": [
    {
     "name": "stdout",
     "output_type": "stream",
     "text": [
      "1\n"
     ]
    }
   ],
   "source": [
    "a=1\n",
    "print(a)"
   ]
  },
  {
   "cell_type": "code",
   "execution_count": 8,
   "id": "331f019b",
   "metadata": {},
   "outputs": [
    {
     "data": {
      "text/plain": [
       "int"
      ]
     },
     "execution_count": 8,
     "metadata": {},
     "output_type": "execute_result"
    }
   ],
   "source": [
    "type(a)"
   ]
  },
  {
   "cell_type": "code",
   "execution_count": 10,
   "id": "185c6d26",
   "metadata": {},
   "outputs": [
    {
     "data": {
      "text/plain": [
       "str"
      ]
     },
     "execution_count": 10,
     "metadata": {},
     "output_type": "execute_result"
    }
   ],
   "source": [
    "a=\"some text\"\n",
    "type(a)"
   ]
  },
  {
   "cell_type": "code",
   "execution_count": 11,
   "id": "47a3166c",
   "metadata": {},
   "outputs": [
    {
     "name": "stdout",
     "output_type": "stream",
     "text": [
      "Result of the comparison: False\n",
      "Complex multiplication: (-4+0j)\n",
      "concatenation\n"
     ]
    }
   ],
   "source": [
    "i=5\n",
    "f=1.5\n",
    "b = i==4\n",
    "print(\"Result of the comparison:\", b)\n",
    "c=0+2j                                 # Note that j denotes the imaginary unit of complex numbers.\n",
    "print(\"Complex multiplication:\", c*c)\n",
    "s=\"conca\" + \"tenation\"\n",
    "print(s)"
   ]
  },
  {
   "cell_type": "code",
   "execution_count": 12,
   "id": "e1879f94",
   "metadata": {},
   "outputs": [
    {
     "name": "stdout",
     "output_type": "stream",
     "text": [
      "-2\n",
      "2.0\n",
      "123\n",
      "True False\n",
      "234\n"
     ]
    }
   ],
   "source": [
    "print(int(-2.8))\n",
    "print(float(2))\n",
    "print(int(\"123\"))\n",
    "print(bool(-2), bool(0))  # Zero is interpreted as False\n",
    "print(str(234))"
   ]
  },
  {
   "cell_type": "code",
   "execution_count": 13,
   "id": "fa1eac01",
   "metadata": {},
   "outputs": [
    {
     "name": "stdout",
     "output_type": "stream",
     "text": [
      "b'\\xc3\\xa4'\n",
      "[195, 164]\n"
     ]
    }
   ],
   "source": [
    "b=\"ä\".encode(\"utf-8\")     # Convert character(s) to a sequence of bytes\n",
    "print(b)                  # Prints bytes in hexadecimal notation\n",
    "print(list(b))            # Prints bytes in decimal notation"
   ]
  },
  {
   "cell_type": "code",
   "execution_count": 14,
   "id": "e315c333",
   "metadata": {},
   "outputs": [
    {
     "data": {
      "text/plain": [
       "'ä'"
      ]
     },
     "execution_count": 14,
     "metadata": {},
     "output_type": "execute_result"
    }
   ],
   "source": [
    "bytes.decode(b, \"utf-8\")  # convert sequence of bytes to character(s)"
   ]
  },
  {
   "cell_type": "code",
   "execution_count": 15,
   "id": "43c52c18",
   "metadata": {},
   "outputs": [
    {
     "name": "stdout",
     "output_type": "stream",
     "text": [
      "One\tTwo\n",
      "Three\tFour\n"
     ]
    }
   ],
   "source": [
    "print(\"One\\tTwo\\nThree\\tFour\")"
   ]
  },
  {
   "cell_type": "code",
   "execution_count": 16,
   "id": "637a0f25",
   "metadata": {},
   "outputs": [],
   "source": [
    "s=\"\"\"A string\n",
    "spanning over\n",
    "several lines\"\"\""
   ]
  },
  {
   "cell_type": "code",
   "execution_count": 17,
   "id": "2e988a6a",
   "metadata": {},
   "outputs": [
    {
     "name": "stdout",
     "output_type": "stream",
     "text": [
      "firstsecond\n",
      "first second second first\n"
     ]
    }
   ],
   "source": [
    "a=\"first\"\n",
    "b=\"second\"\n",
    "print(a+b)\n",
    "print(\" \".join([a, b, b, a]))   # More about the join method later"
   ]
  },
  {
   "cell_type": "code",
   "execution_count": 18,
   "id": "47853ad2",
   "metadata": {},
   "outputs": [
    {
     "name": "stdout",
     "output_type": "stream",
     "text": [
      "1 plus 3 is equal to 4\n",
      "1 plus 3 is equal to 4\n"
     ]
    }
   ],
   "source": [
    "print(str(1) + \" plus \" + str(3) + \" is equal to \" + str(4))\n",
    "# slightly better\n",
    "print(1, \"plus\", 3, \"is equal to\", 4)"
   ]
  },
  {
   "cell_type": "code",
   "execution_count": 19,
   "id": "ced7dd95",
   "metadata": {},
   "outputs": [
    {
     "name": "stdout",
     "output_type": "stream",
     "text": [
      "1 plus 3 is equal to 4\n",
      "1 plus 3 is equal to 4\n",
      "1 plus 3 is equal to 4\n"
     ]
    }
   ],
   "source": [
    "print(\"%i plus %i is equal to %i\" % (1, 3, 4))     # Format syntax\n",
    "\n",
    "print(\"{} plus {} is equal to {}\".format(1, 3, 4)) # Format method\n",
    "\n",
    "print(f\"{1} plus {3} is equal to {4}\")             # f-string"
   ]
  },
  {
   "cell_type": "code",
   "execution_count": 20,
   "id": "ca9c3ef0",
   "metadata": {},
   "outputs": [
    {
     "name": "stdout",
     "output_type": "stream",
     "text": [
      "1.6 1.70 1.800\n",
      "1.6 1.70 1.800\n",
      "1.6 1.70 1.800\n"
     ]
    }
   ],
   "source": [
    "print(\"%.1f %.2f %.3f\" % (1.6, 1.7, 1.8))               # Old style\n",
    "print(\"{:.1f} {:.2f} {:.3f}\".format(1.6, 1.7, 1.8))     # newer style\n",
    "print(f\"{1.6:.1f} {1.7:.2f} {1.8:.3f}\")                 # f-string"
   ]
  },
  {
   "cell_type": "code",
   "execution_count": 21,
   "id": "39d82f6b",
   "metadata": {},
   "outputs": [
    {
     "name": "stdout",
     "output_type": "stream",
     "text": [
      "water concatenated with melon produces watermelon\n",
      "water concatenated with melon produces watermelon\n",
      "water concatenated with melon produces watermelon\n"
     ]
    }
   ],
   "source": [
    "print(\"%s concatenated with %s produces %s\" % (\"water\", \"melon\", \"water\"+\"melon\"))\n",
    "print(\"{0} concatenated with {1} produces {0}{1}\".format(\"water\", \"melon\"))\n",
    "print(f\"{'water'} concatenated with {'melon'} produces {'water' + 'melon'}\")"
   ]
  },
  {
   "cell_type": "code",
   "execution_count": 22,
   "id": "4e19a9a6",
   "metadata": {},
   "outputs": [],
   "source": [
    "i = 5\n",
    "i = i+1    # This is a common idiom to increment the value of i by one\n",
    "i += 1     # This is a short-hand for the above"
   ]
  },
  {
   "cell_type": "code",
   "execution_count": 23,
   "id": "bb5f4cb9",
   "metadata": {},
   "outputs": [
    {
     "name": "stdout",
     "output_type": "stream",
     "text": [
      "Square of 1 is 1\n",
      "Square of 2 is 4\n",
      "Square of 3 is 9\n",
      "Square of 4 is 16\n",
      "Square of 5 is 25\n",
      "Square of 6 is 36\n",
      "Square of 7 is 49\n",
      "Square of 8 is 64\n",
      "Square of 9 is 81\n",
      "Square of 10 is 100\n",
      "Square of 11 is 121\n",
      "Square of 12 is 144\n",
      "Square of 13 is 169\n",
      "Square of 14 is 196\n",
      "Square of 15 is 225\n",
      "Square of 16 is 256\n",
      "Square of 17 is 289\n",
      "Square of 18 is 324\n",
      "Square of 19 is 361\n",
      "Square of 20 is 400\n",
      "Square of 21 is 441\n",
      "Square of 22 is 484\n",
      "Square of 23 is 529\n",
      "Square of 24 is 576\n",
      "Square of 25 is 625\n",
      "Square of 26 is 676\n",
      "Square of 27 is 729\n",
      "Square of 28 is 784\n",
      "Square of 29 is 841\n",
      "Square of 30 is 900\n",
      "Square of 31 is 961\n",
      "Finished printing all the squares below 1000.\n"
     ]
    }
   ],
   "source": [
    "i=1\n",
    "while i*i < 1000:\n",
    "    print(\"Square of\", i, \"is\", i*i)\n",
    "    i = i + 1\n",
    "print(\"Finished printing all the squares below 1000.\")"
   ]
  },
  {
   "cell_type": "code",
   "execution_count": 24,
   "id": "88ac8677",
   "metadata": {},
   "outputs": [
    {
     "name": "stdout",
     "output_type": "stream",
     "text": [
      "The sum is 45\n"
     ]
    }
   ],
   "source": [
    "s=0\n",
    "for i in [0,1,2,3,4,5,6,7,8,9]:\n",
    "    s = s + i\n",
    "print(\"The sum is\", s)"
   ]
  },
  {
   "cell_type": "code",
   "execution_count": 27,
   "id": "6c1e4d36",
   "metadata": {},
   "outputs": [
    {
     "name": "stdout",
     "output_type": "stream",
     "text": [
      "   1   2   3   4   5   6   7   8   9  10\n",
      "   2   4   6   8  10  12  14  16  18  20\n",
      "   3   6   9  12  15  18  21  24  27  30\n",
      "   4   8  12  16  20  24  28  32  36  40\n",
      "   5  10  15  20  25  30  35  40  45  50\n",
      "   6  12  18  24  30  36  42  48  54  60\n",
      "   7  14  21  28  35  42  49  56  63  70\n",
      "   8  16  24  32  40  48  56  64  72  80\n",
      "   9  18  27  36  45  54  63  72  81  90\n",
      "  10  20  30  40  50  60  70  80  90 100\n"
     ]
    }
   ],
   "source": [
    "for i in range(10):\n",
    "    for j in range(10):\n",
    "        cell_num = (i+1) * (j+1)\n",
    "        print(f'{\" \"*(4-len(str(cell_num)))}{cell_num}', end=\"\")\n",
    "    print()"
   ]
  },
  {
   "cell_type": "code",
   "execution_count": 28,
   "id": "824e4aa1",
   "metadata": {},
   "outputs": [
    {
     "name": "stdout",
     "output_type": "stream",
     "text": [
      "textmore text\n"
     ]
    }
   ],
   "source": [
    "print(\"text\", end=\"\")\n",
    "print(\"more text\")"
   ]
  },
  {
   "cell_type": "code",
   "execution_count": 29,
   "id": "6167e6a4",
   "metadata": {},
   "outputs": [
    {
     "name": "stdout",
     "output_type": "stream",
     "text": [
      "Give an integer: 7\n",
      "The absolute value of 7 is 7\n"
     ]
    }
   ],
   "source": [
    "x=input(\"Give an integer: \")\n",
    "x=int(x)\n",
    "if x >= 0:\n",
    "    a=x\n",
    "else:\n",
    "    a=-x\n",
    "print(\"The absolute value of %i is %i\" % (x, a))"
   ]
  },
  {
   "cell_type": "code",
   "execution_count": 30,
   "id": "8885e54c",
   "metadata": {},
   "outputs": [
    {
     "name": "stdout",
     "output_type": "stream",
     "text": [
      "Give a number: -7\n",
      "c is negative\n"
     ]
    }
   ],
   "source": [
    "c=float(input(\"Give a number: \"))\n",
    "if c > 0:\n",
    "    print(\"c is positive\")\n",
    "elif c<0:\n",
    "    print(\"c is negative\")\n",
    "else:\n",
    "    print(\"c is zero\")"
   ]
  },
  {
   "cell_type": "code",
   "execution_count": 31,
   "id": "eb8b2748",
   "metadata": {},
   "outputs": [
    {
     "name": "stdout",
     "output_type": "stream",
     "text": [
      "The first negative list element was -1\n"
     ]
    }
   ],
   "source": [
    "l=[1,3,65,3,-1,56,-10]\n",
    "for x in l:\n",
    "    if x < 0:\n",
    "        break\n",
    "print(\"The first negative list element was\", x)"
   ]
  },
  {
   "cell_type": "code",
   "execution_count": 32,
   "id": "b271a382",
   "metadata": {},
   "outputs": [
    {
     "name": "stdout",
     "output_type": "stream",
     "text": [
      "Square root of 1 is 1.000\n",
      "Natural logarithm of 1 is 0.0000\n",
      "Square root of 3 is 1.732\n",
      "Natural logarithm of 3 is 1.0986\n",
      "Square root of 65 is 8.062\n",
      "Natural logarithm of 65 is 4.1744\n",
      "Square root of 3 is 1.732\n",
      "Natural logarithm of 3 is 1.0986\n",
      "Square root of 56 is 7.483\n",
      "Natural logarithm of 56 is 4.0254\n"
     ]
    }
   ],
   "source": [
    "from math import sqrt, log\n",
    "l=[1,3,65,3,-1,56,-10]\n",
    "for x in l:\n",
    "    if x < 0:\n",
    "        continue\n",
    "    print(f\"Square root of {x} is {sqrt(x):.3f}\")\n",
    "    print(f\"Natural logarithm of {x} is {log(x):.4f}\")"
   ]
  },
  {
   "cell_type": "code",
   "execution_count": 33,
   "id": "32c2c0c8",
   "metadata": {},
   "outputs": [
    {
     "name": "stdout",
     "output_type": "stream",
     "text": [
      "(1, 4)\n",
      "(2, 3)\n",
      "(3, 2)\n",
      "(4, 1)\n"
     ]
    }
   ],
   "source": [
    "for i in range(6):\n",
    "        for j in range(6):\n",
    "            if ((i+1) + (j+1)) == 5:\n",
    "                print((i+1, j+1))"
   ]
  },
  {
   "cell_type": "code",
   "execution_count": 34,
   "id": "ba35e560",
   "metadata": {},
   "outputs": [
    {
     "name": "stdout",
     "output_type": "stream",
     "text": [
      "8 2.4 abcabc\n"
     ]
    }
   ],
   "source": [
    "def double(x):\n",
    "    \"This function multiplies its argument by two.\"\n",
    "    return x*2\n",
    "print(double(4), double(1.2), double(\"abc\")) # It even happens to work for strings!\n"
   ]
  },
  {
   "cell_type": "code",
   "execution_count": 35,
   "id": "cfba664d",
   "metadata": {},
   "outputs": [
    {
     "name": "stdout",
     "output_type": "stream",
     "text": [
      "The docstring is: This function multiplies its argument by two.\n",
      "Help on function double in module __main__:\n",
      "\n",
      "double(x)\n",
      "    This function multiplies its argument by two.\n",
      "\n"
     ]
    }
   ],
   "source": [
    "print(\"The docstring is:\", double.__doc__)\n",
    "help(double)   # Another way to access the docstring"
   ]
  },
  {
   "cell_type": "code",
   "execution_count": 36,
   "id": "e1569748",
   "metadata": {},
   "outputs": [
    {
     "name": "stdout",
     "output_type": "stream",
     "text": [
      "Help on built-in function print in module builtins:\n",
      "\n",
      "print(*args, sep=' ', end='\\n', file=None, flush=False)\n",
      "    Prints the values to a stream, or to sys.stdout by default.\n",
      "    \n",
      "    sep\n",
      "      string inserted between values, default a space.\n",
      "    end\n",
      "      string appended after the last value, default a newline.\n",
      "    file\n",
      "      a file-like object (stream); defaults to the current sys.stdout.\n",
      "    flush\n",
      "      whether to forcibly flush the stream.\n",
      "\n"
     ]
    }
   ],
   "source": [
    "help(print)"
   ]
  },
  {
   "cell_type": "code",
   "execution_count": 37,
   "id": "188049e0",
   "metadata": {},
   "outputs": [
    {
     "name": "stdout",
     "output_type": "stream",
     "text": [
      "25\n"
     ]
    }
   ],
   "source": [
    "def sum_of_squares(a, b):\n",
    "    \"Computes the sum of arguments squared\"\n",
    "    return a**2 + b**2\n",
    "print(sum_of_squares(3, 4))"
   ]
  },
  {
   "cell_type": "code",
   "execution_count": 38,
   "id": "c9b20b8a",
   "metadata": {},
   "outputs": [
    {
     "name": "stdout",
     "output_type": "stream",
     "text": [
      "4\n",
      "45\n"
     ]
    }
   ],
   "source": [
    "def sum_of_squares(lst):\n",
    "    \"Computes the sum of squares of elements in the list given as parameter\"\n",
    "    s=0\n",
    "    for x in lst:\n",
    "        s += x**2\n",
    "    return s\n",
    "print(sum_of_squares([-2]))\n",
    "print(sum_of_squares([-2,4,5]))"
   ]
  },
  {
   "cell_type": "code",
   "execution_count": 39,
   "id": "7d9ed689",
   "metadata": {},
   "outputs": [
    {
     "name": "stdout",
     "output_type": "stream",
     "text": [
      "4\n",
      "45\n"
     ]
    }
   ],
   "source": [
    "def sum_of_squares(*t):\n",
    "    \"Computes the sum of squares of arbitrary number of arguments\"\n",
    "    s=0\n",
    "    for x in t:\n",
    "        s += x**2\n",
    "    return s\n",
    "print(sum_of_squares(-2))\n",
    "print(sum_of_squares(-2,4,5))"
   ]
  },
  {
   "cell_type": "code",
   "execution_count": 40,
   "id": "0560ee78",
   "metadata": {},
   "outputs": [
    {
     "name": "stdout",
     "output_type": "stream",
     "text": [
      "With list unpacked as arguments to the functions: 90\n"
     ]
    }
   ],
   "source": [
    "lst=[1,5,8]\n",
    "print(\"With list unpacked as arguments to the functions:\", sum_of_squares(*lst))\n",
    "# print(sum_of_squares(lst))    # Does not work correctly"
   ]
  },
  {
   "cell_type": "code",
   "execution_count": 41,
   "id": "c8e58129",
   "metadata": {},
   "outputs": [
    {
     "name": "stdout",
     "output_type": "stream",
     "text": [
      "First: 5 Second: 8 Third: 7\n"
     ]
    }
   ],
   "source": [
    "def named(a, b, c):\n",
    "    print(\"First:\", a, \"Second:\", b, \"Third:\", c)\n",
    "named(5, c=7, b=8)"
   ]
  },
  {
   "cell_type": "code",
   "execution_count": 42,
   "id": "f1bc2664",
   "metadata": {},
   "outputs": [
    {
     "name": "stdout",
     "output_type": "stream",
     "text": [
      "1 -*- 2 -*- 3 |first -*- second -*- third |"
     ]
    }
   ],
   "source": [
    "print(1, 2, 3, end=' |', sep=' -*- ')\n",
    "print(\"first\", \"second\", \"third\", end=' |', sep=' -*- ')"
   ]
  },
  {
   "cell_type": "code",
   "execution_count": 43,
   "id": "56289f35",
   "metadata": {},
   "outputs": [
    {
     "name": "stdout",
     "output_type": "stream",
     "text": [
      "5.0\n",
      "4.497941445275415\n"
     ]
    }
   ],
   "source": [
    "def length(*t, degree=2):\n",
    "    \"\"\"Computes the length of the vector given as parameter. By default, it computes\n",
    "    the Euclidean distance (degree==2)\"\"\"\n",
    "    s=0\n",
    "    for x in t:\n",
    "        s += abs(x)**degree\n",
    "    return s**(1/degree)\n",
    "print(length(-4,3))\n",
    "print(length(-4,3, degree=3))"
   ]
  },
  {
   "cell_type": "code",
   "execution_count": 44,
   "id": "7e116228",
   "metadata": {},
   "outputs": [
    {
     "name": "stdout",
     "output_type": "stream",
     "text": [
      "3\n",
      "2\n"
     ]
    }
   ],
   "source": [
    "i=2           # global variable\n",
    "def f():\n",
    "    i=3       # this creates a new variable, it does not rebind the global i\n",
    "    print(i)  # This will print 3    \n",
    "f()\n",
    "print(i)      # This will print 2"
   ]
  },
  {
   "cell_type": "code",
   "execution_count": 45,
   "id": "0d25e60d",
   "metadata": {},
   "outputs": [
    {
     "name": "stdout",
     "output_type": "stream",
     "text": [
      "5\n",
      "5\n"
     ]
    }
   ],
   "source": [
    "i=2\n",
    "def f():\n",
    "    global i\n",
    "    i=5       # rebind the global i variable\n",
    "    print(i)  # This will print 5\n",
    "f()\n",
    "print(i)      # This will print 5"
   ]
  },
  {
   "cell_type": "code",
   "execution_count": 46,
   "id": "a802eb23",
   "metadata": {},
   "outputs": [
    {
     "name": "stdout",
     "output_type": "stream",
     "text": [
      "3\n",
      "2\n"
     ]
    }
   ],
   "source": [
    "def f():            # outer function\n",
    "    b=2\n",
    "    def g():        # inner function\n",
    "        #nonlocal b # Without this nonlocal statement,\n",
    "        b=3         # this will create a new local variable\n",
    "        print(b)\n",
    "    g()\n",
    "    print(b)\n",
    "f()"
   ]
  },
  {
   "cell_type": "code",
   "execution_count": 47,
   "id": "f3e78ae2",
   "metadata": {},
   "outputs": [
    {
     "name": "stdout",
     "output_type": "stream",
     "text": [
      "triple(1)==3 square(1)==1\n",
      "triple(2)==6 square(2)==4\n",
      "triple(3)==9 square(3)==9\n"
     ]
    }
   ],
   "source": [
    "def triple(parameter: int):\n",
    "        return parameter*3\n",
    "\n",
    "def square(parameter: int):\n",
    "        return parameter * parameter\n",
    "\n",
    "def main():\n",
    "    for i in range(10):\n",
    "        if i == 0:\n",
    "            triple(i)\n",
    "            square(i)\n",
    "            continue\n",
    "        print(f'triple({i})=={i*3} square({i})=={i*i}')\n",
    "        if triple(i+1) < square(i+1):\n",
    "             break\n",
    "if __name__ == \"__main__\":\n",
    "    main()"
   ]
  },
  {
   "cell_type": "code",
   "execution_count": 49,
   "id": "d8fbab16",
   "metadata": {},
   "outputs": [
    {
     "name": "stdout",
     "output_type": "stream",
     "text": [
      "Choose a shape (triangle, rectangle, circle):\n",
      "circle\n",
      "Give radius of the circle: 10\n",
      "The area is 314.159265\n",
      "Choose a shape (triangle, rectangle, circle):\n",
      "triangle\n",
      "Give base of the triangle: 5\n",
      "Give height of the triangle: 5\n",
      "The area is 12.500000\n",
      "Choose a shape (triangle, rectangle, circle):\n",
      "rectangle\n",
      "Give width of rectangle: 5\n",
      "Give height of rectangle: 8\n",
      "The area is 40.000000\n",
      "Choose a shape (triangle, rectangle, circle):\n",
      "sgsah\n",
      "Unknown shape!\n"
     ]
    },
    {
     "ename": "KeyboardInterrupt",
     "evalue": "Interrupted by user",
     "output_type": "error",
     "traceback": [
      "\u001b[1;31m---------------------------------------------------------------------------\u001b[0m",
      "\u001b[1;31mKeyboardInterrupt\u001b[0m                         Traceback (most recent call last)",
      "Cell \u001b[1;32mIn[49], line 23\u001b[0m\n\u001b[0;32m     21\u001b[0m             \u001b[38;5;28mprint\u001b[39m(\u001b[38;5;124m\"\u001b[39m\u001b[38;5;124mUnknown shape!\u001b[39m\u001b[38;5;124m\"\u001b[39m)\n\u001b[0;32m     22\u001b[0m \u001b[38;5;28;01mif\u001b[39;00m \u001b[38;5;18m__name__\u001b[39m \u001b[38;5;241m==\u001b[39m \u001b[38;5;124m\"\u001b[39m\u001b[38;5;124m__main__\u001b[39m\u001b[38;5;124m\"\u001b[39m:\n\u001b[1;32m---> 23\u001b[0m     main()\n",
      "Cell \u001b[1;32mIn[49], line 6\u001b[0m, in \u001b[0;36mmain\u001b[1;34m()\u001b[0m\n\u001b[0;32m      4\u001b[0m \u001b[38;5;28;01mdef\u001b[39;00m \u001b[38;5;21mmain\u001b[39m():\n\u001b[0;32m      5\u001b[0m     \u001b[38;5;28;01mwhile\u001b[39;00m \u001b[38;5;28;01mTrue\u001b[39;00m:\n\u001b[1;32m----> 6\u001b[0m         user_input \u001b[38;5;241m=\u001b[39m \u001b[38;5;28minput\u001b[39m(\u001b[38;5;124m\"\u001b[39m\u001b[38;5;124mChoose a shape (triangle, rectangle, circle):\u001b[39m\u001b[38;5;130;01m\\n\u001b[39;00m\u001b[38;5;124m\"\u001b[39m)\n\u001b[0;32m      7\u001b[0m         \u001b[38;5;28;01mif\u001b[39;00m user_input \u001b[38;5;241m==\u001b[39m \u001b[38;5;124m'\u001b[39m\u001b[38;5;124mtriangle\u001b[39m\u001b[38;5;124m'\u001b[39m:\n\u001b[0;32m      8\u001b[0m             tri_base \u001b[38;5;241m=\u001b[39m \u001b[38;5;28mint\u001b[39m(\u001b[38;5;28minput\u001b[39m(\u001b[38;5;124m\"\u001b[39m\u001b[38;5;124mGive base of the triangle: \u001b[39m\u001b[38;5;124m\"\u001b[39m))\n",
      "File \u001b[1;32mC:\\ProgramData\\anaconda3\\Lib\\site-packages\\ipykernel\\kernelbase.py:1202\u001b[0m, in \u001b[0;36mKernel.raw_input\u001b[1;34m(self, prompt)\u001b[0m\n\u001b[0;32m   1200\u001b[0m     msg \u001b[38;5;241m=\u001b[39m \u001b[38;5;124m\"\u001b[39m\u001b[38;5;124mraw_input was called, but this frontend does not support input requests.\u001b[39m\u001b[38;5;124m\"\u001b[39m\n\u001b[0;32m   1201\u001b[0m     \u001b[38;5;28;01mraise\u001b[39;00m StdinNotImplementedError(msg)\n\u001b[1;32m-> 1202\u001b[0m \u001b[38;5;28;01mreturn\u001b[39;00m \u001b[38;5;28mself\u001b[39m\u001b[38;5;241m.\u001b[39m_input_request(\n\u001b[0;32m   1203\u001b[0m     \u001b[38;5;28mstr\u001b[39m(prompt),\n\u001b[0;32m   1204\u001b[0m     \u001b[38;5;28mself\u001b[39m\u001b[38;5;241m.\u001b[39m_parent_ident[\u001b[38;5;124m\"\u001b[39m\u001b[38;5;124mshell\u001b[39m\u001b[38;5;124m\"\u001b[39m],\n\u001b[0;32m   1205\u001b[0m     \u001b[38;5;28mself\u001b[39m\u001b[38;5;241m.\u001b[39mget_parent(\u001b[38;5;124m\"\u001b[39m\u001b[38;5;124mshell\u001b[39m\u001b[38;5;124m\"\u001b[39m),\n\u001b[0;32m   1206\u001b[0m     password\u001b[38;5;241m=\u001b[39m\u001b[38;5;28;01mFalse\u001b[39;00m,\n\u001b[0;32m   1207\u001b[0m )\n",
      "File \u001b[1;32mC:\\ProgramData\\anaconda3\\Lib\\site-packages\\ipykernel\\kernelbase.py:1245\u001b[0m, in \u001b[0;36mKernel._input_request\u001b[1;34m(self, prompt, ident, parent, password)\u001b[0m\n\u001b[0;32m   1242\u001b[0m \u001b[38;5;28;01mexcept\u001b[39;00m \u001b[38;5;167;01mKeyboardInterrupt\u001b[39;00m:\n\u001b[0;32m   1243\u001b[0m     \u001b[38;5;66;03m# re-raise KeyboardInterrupt, to truncate traceback\u001b[39;00m\n\u001b[0;32m   1244\u001b[0m     msg \u001b[38;5;241m=\u001b[39m \u001b[38;5;124m\"\u001b[39m\u001b[38;5;124mInterrupted by user\u001b[39m\u001b[38;5;124m\"\u001b[39m\n\u001b[1;32m-> 1245\u001b[0m     \u001b[38;5;28;01mraise\u001b[39;00m \u001b[38;5;167;01mKeyboardInterrupt\u001b[39;00m(msg) \u001b[38;5;28;01mfrom\u001b[39;00m \u001b[38;5;28;01mNone\u001b[39;00m\n\u001b[0;32m   1246\u001b[0m \u001b[38;5;28;01mexcept\u001b[39;00m \u001b[38;5;167;01mException\u001b[39;00m:\n\u001b[0;32m   1247\u001b[0m     \u001b[38;5;28mself\u001b[39m\u001b[38;5;241m.\u001b[39mlog\u001b[38;5;241m.\u001b[39mwarning(\u001b[38;5;124m\"\u001b[39m\u001b[38;5;124mInvalid Message:\u001b[39m\u001b[38;5;124m\"\u001b[39m, exc_info\u001b[38;5;241m=\u001b[39m\u001b[38;5;28;01mTrue\u001b[39;00m)\n",
      "\u001b[1;31mKeyboardInterrupt\u001b[0m: Interrupted by user"
     ]
    }
   ],
   "source": [
    "import math\n",
    "\n",
    "\n",
    "def main():\n",
    "    while True:\n",
    "        user_input = input(\"Choose a shape (triangle, rectangle, circle):\\n\")\n",
    "        if user_input == 'triangle':\n",
    "            tri_base = int(input(\"Give base of the triangle: \"))\n",
    "            tri_height = int(input(\"Give height of the triangle: \"))\n",
    "            print(f\"The area is {0.5 * (tri_base * tri_height):.6f}\")\n",
    "        elif user_input == 'rectangle':\n",
    "            rect_width = int(input(\"Give width of rectangle: \"))\n",
    "            rect_height = int(input(\"Give height of rectangle: \"))\n",
    "            print(f\"The area is {(rect_width * rect_height):.6f}\")\n",
    "        elif user_input == 'circle':\n",
    "            cir_rad = int(input(\"Give radius of the circle: \"))\n",
    "            print(f\"The area is {(math.pi * (cir_rad**2)):.6f}\")\n",
    "        elif user_input == '':\n",
    "            break\n",
    "        else:\n",
    "            print(\"Unknown shape!\")\n",
    "if __name__ == \"__main__\":\n",
    "    main()"
   ]
  },
  {
   "cell_type": "code",
   "execution_count": 1,
   "id": "f960329f",
   "metadata": {},
   "outputs": [
    {
     "data": {
      "text/plain": [
       "[2, 100, 'hello', 1.0]"
      ]
     },
     "execution_count": 1,
     "metadata": {},
     "output_type": "execute_result"
    }
   ],
   "source": [
    "[2, 100, \"hello\", 1.0]"
   ]
  },
  {
   "cell_type": "code",
   "execution_count": 2,
   "id": "cdf42fee",
   "metadata": {},
   "outputs": [
    {
     "data": {
      "text/plain": [
       "'bcd'"
      ]
     },
     "execution_count": 2,
     "metadata": {},
     "output_type": "execute_result"
    }
   ],
   "source": [
    "s=\"abcdefg\"\n",
    "s[1:4]"
   ]
  },
  {
   "cell_type": "code",
   "execution_count": 3,
   "id": "07e75300",
   "metadata": {},
   "outputs": [
    {
     "name": "stdout",
     "output_type": "stream",
     "text": [
      "[0, 3, 6, 9]\n"
     ]
    }
   ],
   "source": [
    "print([0,1,2,3,4,5,6,7,8,9][::3])"
   ]
  },
  {
   "cell_type": "code",
   "execution_count": 4,
   "id": "9cd1f8ef",
   "metadata": {},
   "outputs": [
    {
     "name": "stdout",
     "output_type": "stream",
     "text": [
      "(2.0, 1.0)\n",
      "(-1.0, -1.0)\n"
     ]
    }
   ],
   "source": [
    "import math\n",
    "\n",
    "def solve_quadratic(a, b, c):\n",
    "    return (float((-b + math.sqrt((b**2)-(4*a*c)))/(2*a)), float((-b - math.sqrt((b**2)-(4*a*c)))/(2*a)))\n",
    "       \n",
    "\n",
    "\n",
    "def main():\n",
    "    print(solve_quadratic(1,-3,2))\n",
    "    print(solve_quadratic(1,2,1))\n",
    "    \n",
    "if __name__ == \"__main__\":\n",
    "    main()"
   ]
  },
  {
   "cell_type": "code",
   "execution_count": 5,
   "id": "4a297e00",
   "metadata": {},
   "outputs": [
    {
     "name": "stdout",
     "output_type": "stream",
     "text": [
      "[11, 13, 10, 32]\n"
     ]
    }
   ],
   "source": [
    "L=[11,13,22,32]\n",
    "L[2]=10          # Changes the third element\n",
    "print(L)"
   ]
  },
  {
   "cell_type": "code",
   "execution_count": 6,
   "id": "0b403b8b",
   "metadata": {},
   "outputs": [
    {
     "name": "stdout",
     "output_type": "stream",
     "text": [
      "[11, 4, 32]\n"
     ]
    }
   ],
   "source": [
    "L[1:3]=[4]\n",
    "print(L)"
   ]
  },
  {
   "cell_type": "code",
   "execution_count": 7,
   "id": "d4489dfa",
   "metadata": {},
   "outputs": [
    {
     "name": "stdout",
     "output_type": "stream",
     "text": [
      "0\n",
      "1\n",
      "2\n",
      "range(0, 3)\n"
     ]
    }
   ],
   "source": [
    "L=range(3)\n",
    "for i in L:\n",
    "    print(i)\n",
    "# Note that L is not a list!\n",
    "print(L)"
   ]
  },
  {
   "cell_type": "code",
   "execution_count": 8,
   "id": "bddd2809",
   "metadata": {},
   "outputs": [
    {
     "name": "stdout",
     "output_type": "stream",
     "text": [
      "[0, 1, 2, 3, 4, 5, 6, 7, 8, 9]\n"
     ]
    }
   ],
   "source": [
    "L=range(10)\n",
    "print(list(L))"
   ]
  },
  {
   "cell_type": "code",
   "execution_count": 9,
   "id": "75f2d4e8",
   "metadata": {},
   "outputs": [
    {
     "name": "stdout",
     "output_type": "stream",
     "text": [
      "[0, 2, 4, 6]\n"
     ]
    }
   ],
   "source": [
    "print(list(range(0, 7, 2)))"
   ]
  },
  {
   "cell_type": "code",
   "execution_count": 10,
   "id": "f8968569",
   "metadata": {},
   "outputs": [
    {
     "name": "stdout",
     "output_type": "stream",
     "text": [
      "[1, 3, 5, 7]\n",
      "[1, 3, 6, 6, 7]\n",
      "[6, 1, 7, 3, 6]\n"
     ]
    }
   ],
   "source": [
    "L=[5,3,7,1]\n",
    "L.sort()      # here we call the sort method of the object L\n",
    "print(L)\n",
    "L2=[6,1,7,3,6]\n",
    "print(sorted(L2))\n",
    "print(L2)"
   ]
  },
  {
   "cell_type": "code",
   "execution_count": 11,
   "id": "a236b779",
   "metadata": {},
   "outputs": [
    {
     "name": "stdout",
     "output_type": "stream",
     "text": [
      "[7, 5, 3, 1]\n"
     ]
    }
   ],
   "source": [
    "L=[5,3,7,1]\n",
    "print(sorted(L, reverse=True))"
   ]
  },
  {
   "cell_type": "code",
   "execution_count": 13,
   "id": "41953365",
   "metadata": {},
   "outputs": [
    {
     "name": "stdout",
     "output_type": "stream",
     "text": [
      "[1, 2, 3, 3, 4, 4, 5, 7]\n"
     ]
    }
   ],
   "source": [
    "def merge(L1, L2):\n",
    "    L = L1+L2\n",
    "    def sort_alg(x: list):\n",
    "        is_sorted = False\n",
    "        for i in range(len(x)):\n",
    "            if i+1 > len(x)-1:\n",
    "                break\n",
    "            if x[i] > x[i+1]:\n",
    "                x[i], x[i+1] = x[i+1], x[i]\n",
    "        for i in range(len(x)):\n",
    "            if i+1 > len(x)-1:\n",
    "                break\n",
    "            if x[i] > x[i+1]:\n",
    "                is_sorted = False\n",
    "                break\n",
    "            else:\n",
    "                is_sorted = True\n",
    "        if is_sorted == True:\n",
    "            return x\n",
    "        else:\n",
    "            sort_alg(x)\n",
    "    sort_alg(L)    \n",
    "    return L\n",
    "def main():\n",
    "    L1 = [1,7,3,4]\n",
    "    L2 = [5,3,4,2]\n",
    "    print(merge(L1, L2))\n",
    "\n",
    "if __name__ == \"__main__\":\n",
    "    main()"
   ]
  },
  {
   "cell_type": "code",
   "execution_count": 14,
   "id": "86fef232",
   "metadata": {},
   "outputs": [
    {
     "name": "stdout",
     "output_type": "stream",
     "text": [
      "[4, 2, 0, -2, -4]\n",
      "[-4, -2, 0, 2, 4]\n"
     ]
    }
   ],
   "source": [
    "#!/usr/bin/env python3\n",
    "\n",
    "def detect_ranges(L):\n",
    "    z = sorted(L)\n",
    "    ranged_list = []\n",
    "    counter = 0\n",
    "    while counter <= len(z)-1:\n",
    "        if counter+1 > len(L)-1:\n",
    "            if type(ranged_list[-1]) == tuple and z[counter] != (ranged_list[-1][1]-1) or type(ranged_list[-1]) == int and z[counter] != ranged_list[-1]-1:\n",
    "                ranged_list.append(z[-1])\n",
    "            break\n",
    "        if z[counter+1] != z[counter]+1:\n",
    "            ranged_list.append(z[counter])\n",
    "        else:\n",
    "            temp_list = []\n",
    "            temp_list.append(z[counter])\n",
    "            for j in range(counter, len(z)):\n",
    "                if j+1 > len(z)-1:\n",
    "                    temp_list.append(z[j]+1)\n",
    "                    counter = j\n",
    "                    break\n",
    "                if z[j+1] != z[j]+1:\n",
    "                    temp_list.append(z[j]+1)\n",
    "                    counter = j\n",
    "                    break\n",
    "            ranged_list.append(tuple(temp_list))\n",
    "        counter += 1\n",
    "    return ranged_list\n",
    "\n",
    "def main():\n",
    "    L = [4, 2, 0, -2, -4]\n",
    "    result = detect_ranges(L)\n",
    "    print(L)\n",
    "    print(result)\n",
    "\n",
    "if __name__ == \"__main__\":\n",
    "    main()"
   ]
  },
  {
   "cell_type": "code",
   "execution_count": 15,
   "id": "429cd358",
   "metadata": {},
   "outputs": [
    {
     "name": "stdout",
     "output_type": "stream",
     "text": [
      "<zip object at 0x00000212297FDC00>\n",
      "[(1, 'first'), (2, 'second'), (3, 'third')]\n"
     ]
    }
   ],
   "source": [
    "L1=[1,2,3]\n",
    "L2=[\"first\", \"second\", \"third\"]\n",
    "print(zip(L1, L2))               # Note that zip does not return a list, like range\n",
    "print(list(zip(L1, L2))) "
   ]
  },
  {
   "cell_type": "code",
   "execution_count": 16,
   "id": "0e117dc3",
   "metadata": {},
   "outputs": [
    {
     "name": "stdout",
     "output_type": "stream",
     "text": [
      "On Monday it was rainy and the temperature was 10 degrees celsius.\n",
      "On Tuesday it was rainy and the temperature was 12 degrees celsius.\n",
      "On Wednesday it was sunny and the temperature was 12 degrees celsius.\n",
      "On Thursday it was cloudy and the temperature was 9 degrees celsius.\n",
      "On Friday it was rainy and the temperature was 9 degrees celsius.\n",
      "On Saturday it was sunny and the temperature was 11 degrees celsius.\n",
      "On Sunday it was sunny and the temperature was 11 degrees celsius.\n"
     ]
    }
   ],
   "source": [
    "days=\"Monday Tuesday Wednesday Thursday Friday Saturday Sunday\".split()\n",
    "weathers=\"rainy rainy sunny cloudy rainy sunny sunny\".split()\n",
    "temperatures=[10,12,12,9,9,11,11]\n",
    "for day, weather, temperature in zip(days,weathers,temperatures):\n",
    "    print(f\"On {day} it was {weather} and the temperature was {temperature} degrees celsius.\")\n",
    "\n",
    "# Or equivalently:\n",
    "#for t in zip(days,weathers,temperatures):\n",
    "#    print(\"On {} it was {} and the temperature was {} degrees celsius.\".format(*t))"
   ]
  },
  {
   "cell_type": "code",
   "execution_count": 17,
   "id": "3a5f447e",
   "metadata": {},
   "outputs": [
    {
     "name": "stdout",
     "output_type": "stream",
     "text": [
      "[1, 20, 'a', 2, 30, 'b', 3, 40, 'c']\n"
     ]
    }
   ],
   "source": [
    "#!/usr/bin/env python3\n",
    "\n",
    "def interleave(*lists):\n",
    "    zipped_list = list(zip(*lists))\n",
    "    unpacked_list = []\n",
    "    def unpack_zip(zipped_list):\n",
    "        for i in zipped_list:\n",
    "            if type(i) == tuple:\n",
    "                unpack_zip(i)\n",
    "            else:\n",
    "                unpacked_list.append(i)\n",
    "    unpack_zip(zipped_list)\n",
    "    return unpacked_list\n",
    "\n",
    "def main():\n",
    "    print(interleave([1, 2, 3], [20, 30, 40], ['a', 'b', 'c']))\n",
    "\n",
    "if __name__ == \"__main__\":\n",
    "    main()"
   ]
  },
  {
   "cell_type": "code",
   "execution_count": 18,
   "id": "dcfec9e1",
   "metadata": {},
   "outputs": [
    {
     "name": "stdout",
     "output_type": "stream",
     "text": [
      "7\n"
     ]
    }
   ],
   "source": [
    "L=[1,2,98,5,-1,2,0,5,10]\n",
    "counter = 0\n",
    "for i, x in enumerate(L):\n",
    "    if x == 5:\n",
    "        counter += 1\n",
    "        if counter == 2:\n",
    "            break\n",
    "print(i)"
   ]
  },
  {
   "cell_type": "code",
   "execution_count": 19,
   "id": "3651bd3b",
   "metadata": {},
   "outputs": [
    {
     "name": "stdout",
     "output_type": "stream",
     "text": [
      "value1\n",
      "value2\n"
     ]
    }
   ],
   "source": [
    "d={\"key1\":\"value1\", \"key2\":\"value2\"}\n",
    "print(d[\"key1\"])\n",
    "print(d[\"key2\"])"
   ]
  },
  {
   "cell_type": "code",
   "execution_count": 20,
   "id": "47d3b634",
   "metadata": {},
   "outputs": [],
   "source": [
    "dict([(\"key1\", \"value1\"), (\"key2\", \"value2\"), (\"key3\", \"value3\")]) # list of items\n",
    "dict(key1=\"value1\", key2=\"value2\", key3=\"value3\");"
   ]
  },
  {
   "cell_type": "code",
   "execution_count": 21,
   "id": "7cdf5f09",
   "metadata": {},
   "outputs": [
    {
     "name": "stdout",
     "output_type": "stream",
     "text": [
      "{2: 'value'}\n"
     ]
    }
   ],
   "source": [
    "d={}\n",
    "d[2]=\"value\"\n",
    "print(d)"
   ]
  },
  {
   "cell_type": "code",
   "execution_count": 22,
   "id": "49864ee2",
   "metadata": {},
   "outputs": [
    {
     "ename": "KeyError",
     "evalue": "1",
     "output_type": "error",
     "traceback": [
      "\u001b[1;31m---------------------------------------------------------------------------\u001b[0m",
      "\u001b[1;31mKeyError\u001b[0m                                  Traceback (most recent call last)",
      "Cell \u001b[1;32mIn[22], line 1\u001b[0m\n\u001b[1;32m----> 1\u001b[0m d[\u001b[38;5;241m1\u001b[39m]\n",
      "\u001b[1;31mKeyError\u001b[0m: 1"
     ]
    }
   ],
   "source": [
    " d[1]   # This would cause an error"
   ]
  },
  {
   "cell_type": "code",
   "execution_count": 23,
   "id": "afc7a968",
   "metadata": {},
   "outputs": [
    {
     "ename": "SyntaxError",
     "evalue": "invalid syntax (1094605221.py, line 5)",
     "output_type": "error",
     "traceback": [
      "\u001b[1;36m  Cell \u001b[1;32mIn[23], line 5\u001b[1;36m\u001b[0m\n\u001b[1;33m    d.get(k[,x])\u001b[0m\n\u001b[1;37m            ^\u001b[0m\n\u001b[1;31mSyntaxError\u001b[0m\u001b[1;31m:\u001b[0m invalid syntax\n"
     ]
    }
   ],
   "source": [
    "d.copy()\n",
    "d.items()\n",
    "d.keys()\n",
    "d.values()\n",
    "d.get(k[,x])"
   ]
  },
  {
   "cell_type": "code",
   "execution_count": 24,
   "id": "319a5a4a",
   "metadata": {},
   "outputs": [
    {
     "ename": "SyntaxError",
     "evalue": "invalid syntax (2949985148.py, line 3)",
     "output_type": "error",
     "traceback": [
      "\u001b[1;36m  Cell \u001b[1;32mIn[24], line 3\u001b[1;36m\u001b[0m\n\u001b[1;33m    d.setdefault(k[,x])\u001b[0m\n\u001b[1;37m                   ^\u001b[0m\n\u001b[1;31mSyntaxError\u001b[0m\u001b[1;31m:\u001b[0m invalid syntax\n"
     ]
    }
   ],
   "source": [
    "d.clear()\n",
    "d.update(d1)\n",
    "d.setdefault(k[,x])\n",
    "d.pop(k[,x])\n",
    "d.popitem()"
   ]
  },
  {
   "cell_type": "code",
   "execution_count": 25,
   "id": "9e63fb5b",
   "metadata": {},
   "outputs": [
    {
     "data": {
      "text/plain": [
       "dict_values([1, 2, 3, 4, 5])"
      ]
     },
     "execution_count": 25,
     "metadata": {},
     "output_type": "execute_result"
    }
   ],
   "source": [
    "d=dict(a=1, b=2, c=3, d=4, e=5)\n",
    "d.values()"
   ]
  },
  {
   "cell_type": "code",
   "execution_count": 26,
   "id": "035c00cf",
   "metadata": {},
   "outputs": [
    {
     "name": "stdout",
     "output_type": "stream",
     "text": [
      "{1}\n",
      "{1, 2, 'a'}\n",
      "set()\n",
      "{7}\n"
     ]
    }
   ],
   "source": [
    "s={1,1,1}\n",
    "print(s)\n",
    "s=set([1,2,2,'a'])\n",
    "print(s)\n",
    "s=set()  # empty set\n",
    "print(s)\n",
    "s.add(7) # add one element\n",
    "print(s)"
   ]
  },
  {
   "cell_type": "code",
   "execution_count": 27,
   "id": "2b89eb6a",
   "metadata": {},
   "outputs": [
    {
     "name": "stdout",
     "output_type": "stream",
     "text": [
      "There are 4 distinct characters in mississippi\n"
     ]
    }
   ],
   "source": [
    "s=\"mississippi\"\n",
    "print(f\"There are {len(set(s))} distinct characters in {s}\")"
   ]
  },
  {
   "cell_type": "code",
   "execution_count": 28,
   "id": "70e1a9c2",
   "metadata": {},
   "outputs": [],
   "source": [
    "s=set()\n",
    "s1=set()\n",
    "s.copy()\n",
    "s.issubset(s1)\n",
    "s.issuperset(s1)\n",
    "s.union(s1)\n",
    "s.intersection(s1)\n",
    "s.difference(s1)\n",
    "s.symmetric_difference(s1);"
   ]
  },
  {
   "cell_type": "code",
   "execution_count": 29,
   "id": "44a978db",
   "metadata": {},
   "outputs": [
    {
     "name": "stdout",
     "output_type": "stream",
     "text": [
      "Union: {1, 2, 7, 8, 9}\n",
      "Intersection: {2}\n",
      "Difference: {1, 7}\n",
      "Symmetric difference {1, 7, 8, 9}\n"
     ]
    }
   ],
   "source": [
    "s=set([1,2,7])\n",
    "t=set([2,8,9])\n",
    "print(\"Union:\", s|t)\n",
    "print(\"Intersection:\", s&t)\n",
    "print(\"Difference:\", s-t)\n",
    "print(\"Symmetric difference\", s^t)"
   ]
  },
  {
   "cell_type": "code",
   "execution_count": 30,
   "id": "fead5ef7",
   "metadata": {},
   "outputs": [
    {
     "ename": "TypeError",
     "evalue": "set.discard() takes exactly one argument (0 given)",
     "output_type": "error",
     "traceback": [
      "\u001b[1;31m---------------------------------------------------------------------------\u001b[0m",
      "\u001b[1;31mTypeError\u001b[0m                                 Traceback (most recent call last)",
      "Cell \u001b[1;32mIn[30], line 3\u001b[0m\n\u001b[0;32m      1\u001b[0m s\u001b[38;5;241m.\u001b[39madd(x)\n\u001b[0;32m      2\u001b[0m s\u001b[38;5;241m.\u001b[39mclear()\n\u001b[1;32m----> 3\u001b[0m s\u001b[38;5;241m.\u001b[39mdiscard()\n\u001b[0;32m      4\u001b[0m s\u001b[38;5;241m.\u001b[39mpop()\n\u001b[0;32m      5\u001b[0m s\u001b[38;5;241m.\u001b[39mremove(x)\n",
      "\u001b[1;31mTypeError\u001b[0m: set.discard() takes exactly one argument (0 given)"
     ]
    }
   ],
   "source": [
    "s.add(x)\n",
    "s.clear()\n",
    "s.discard()\n",
    "s.pop()\n",
    "s.remove(x)"
   ]
  },
  {
   "cell_type": "code",
   "execution_count": 31,
   "id": "c3c35b8c",
   "metadata": {},
   "outputs": [
    {
     "name": "stdout",
     "output_type": "stream",
     "text": [
      "{'check': 4, 'look': 3, 'try': 3, 'pop': 2}\n"
     ]
    }
   ],
   "source": [
    "def distinct_characters(L):\n",
    "    distinct_dict = {}\n",
    "    for string in L:\n",
    "        if string not in distinct_dict:\n",
    "            distinct_dict[f'{string}'] = len(set(string))\n",
    "    return distinct_dict\n",
    "\n",
    "def main():\n",
    "    print(distinct_characters([\"check\", \"look\", \"try\", \"pop\"]))\n",
    "\n",
    "if __name__ == \"__main__\":\n",
    "    main()"
   ]
  },
  {
   "cell_type": "code",
   "execution_count": 32,
   "id": "f882e310",
   "metadata": {},
   "outputs": [
    {
     "name": "stdout",
     "output_type": "stream",
     "text": [
      "True\n",
      "True\n",
      "False\n",
      "True\n"
     ]
    }
   ],
   "source": [
    "print(1 in [1,2])\n",
    "d=dict(a=1, b=3)\n",
    "print(\"b\" in d)\n",
    "s=set()\n",
    "print(1 in s)\n",
    "print(\"x\" in \"text\")"
   ]
  },
  {
   "cell_type": "code",
   "execution_count": 33,
   "id": "f09b527e",
   "metadata": {},
   "outputs": [
    {
     "name": "stdout",
     "output_type": "stream",
     "text": [
      "True\n",
      "False\n"
     ]
    }
   ],
   "source": [
    "print(\"issi\" in \"mississippi\")\n",
    "print(\"issp\" in \"mississippi\")"
   ]
  },
  {
   "cell_type": "code",
   "execution_count": 34,
   "id": "5fbe9e37",
   "metadata": {},
   "outputs": [
    {
     "name": "stdout",
     "output_type": "stream",
     "text": [
      "e\n",
      "a b\n"
     ]
    }
   ],
   "source": [
    "first, second = [4,5]\n",
    "a,b,c = \"bye\"\n",
    "print(c)\n",
    "d=dict(a=1, b=3)\n",
    "key1, key2 = d\n",
    "print(key1, key2)"
   ]
  },
  {
   "cell_type": "code",
   "execution_count": 35,
   "id": "ad31dd32",
   "metadata": {},
   "outputs": [
    {
     "name": "stdout",
     "output_type": "stream",
     "text": [
      "For key 'a' value 1 was stored\n",
      "For key 'b' value 3 was stored\n"
     ]
    }
   ],
   "source": [
    "for key, value in d.items():\n",
    "    print(f\"For key '{key}' value {value} was stored\")"
   ]
  },
  {
   "cell_type": "code",
   "execution_count": 37,
   "id": "cb616a5b",
   "metadata": {},
   "outputs": [
    {
     "ename": "NameError",
     "evalue": "name 's' is not defined",
     "output_type": "error",
     "traceback": [
      "\u001b[1;31m---------------------------------------------------------------------------\u001b[0m",
      "\u001b[1;31mNameError\u001b[0m                                 Traceback (most recent call last)",
      "Cell \u001b[1;32mIn[37], line 3\u001b[0m\n\u001b[0;32m      1\u001b[0m s\u001b[38;5;241m=\u001b[39m\u001b[38;5;124m\"\u001b[39m\u001b[38;5;124mhello\u001b[39m\u001b[38;5;124m\"\u001b[39m\n\u001b[0;32m      2\u001b[0m \u001b[38;5;28;01mdel\u001b[39;00m s\n\u001b[1;32m----> 3\u001b[0m \u001b[38;5;28mprint\u001b[39m(s)\n",
      "\u001b[1;31mNameError\u001b[0m: name 's' is not defined"
     ]
    }
   ],
   "source": [
    "s=\"hello\"\n",
    "del s\n",
    "print(s)    # This would cause an error"
   ]
  },
  {
   "cell_type": "code",
   "execution_count": 38,
   "id": "d8b9e8ee",
   "metadata": {},
   "outputs": [
    {
     "name": "stdout",
     "output_type": "stream",
     "text": [
      "[13, 40, 100]\n"
     ]
    }
   ],
   "source": [
    "L=[13,23,40,100]\n",
    "del L[1]\n",
    "print(L)"
   ]
  },
  {
   "cell_type": "code",
   "execution_count": 39,
   "id": "15a2fc32",
   "metadata": {},
   "outputs": [
    {
     "name": "stdout",
     "output_type": "stream",
     "text": [
      "{'liikuttaa': ['move'], 'piilottaa': ['hide'], 'salata': ['hide'], 'kuusi': ['six', 'fir']}\n"
     ]
    }
   ],
   "source": [
    "def reverse_dictionary(d):\n",
    "    reversed_dict = {}\n",
    "    for key, value in d.items():\n",
    "        for word in value:\n",
    "            if word not in reversed_dict:\n",
    "                reversed_dict[word] = [] \n",
    "    for key, value in d.items():\n",
    "        for word in value:\n",
    "            if word in reversed_dict:\n",
    "                reversed_dict[word].append(key)\n",
    "    return reversed_dict\n",
    "\n",
    "def main():\n",
    "    d={'move': ['liikuttaa'], 'hide': ['piilottaa', 'salata'], 'six': ['kuusi'], 'fir': ['kuusi']}\n",
    "    print(reverse_dictionary(d))\n",
    "\n",
    "if __name__ == \"__main__\":\n",
    "    main()"
   ]
  },
  {
   "cell_type": "code",
   "execution_count": 40,
   "id": "a865717e",
   "metadata": {},
   "outputs": [
    {
     "name": "stdout",
     "output_type": "stream",
     "text": [
      "[0, 1, 3]\n"
     ]
    }
   ],
   "source": [
    "#!/usr/bin/env python3\n",
    "\n",
    "def find_matching(L, pattern):\n",
    "    return [i for i, x in enumerate(L) if pattern in L[i]]\n",
    "\n",
    "def main():\n",
    "    print(find_matching([\"sensitive\", \"engine\", \"rubbish\", \"comment\"], \"en\"))\n",
    "\n",
    "if __name__ == \"__main__\":\n",
    "    main()"
   ]
  },
  {
   "cell_type": "code",
   "execution_count": 41,
   "id": "98224811",
   "metadata": {},
   "outputs": [
    {
     "name": "stdout",
     "output_type": "stream",
     "text": [
      "[0, 1, 4, 9, 16, 25, 36, 49, 64, 81]\n"
     ]
    }
   ],
   "source": [
    "L=[]\n",
    "for i in range(10):\n",
    "    L.append(i**2)\n",
    "print(L)"
   ]
  },
  {
   "cell_type": "code",
   "execution_count": 42,
   "id": "61e94859",
   "metadata": {},
   "outputs": [
    {
     "name": "stdout",
     "output_type": "stream",
     "text": [
      "[1, 8, 27, 64, 125, 216, 343, 512, 729, 1000]\n"
     ]
    }
   ],
   "source": [
    "L=[ a**3 for a in range(1,11)]\n",
    "print(L)"
   ]
  },
  {
   "cell_type": "code",
   "execution_count": 43,
   "id": "cb0dddf6",
   "metadata": {},
   "outputs": [
    {
     "name": "stdout",
     "output_type": "stream",
     "text": [
      "[0, 1, 2, 3, 4, 5, 6, 7, 8, 9, 11, 12, 13, 14, 15, 16, 17, 18, 19, 22, 23, 24, 25, 26, 27, 28, 29, 33, 34, 35, 36, 37, 38, 39, 44, 45, 46, 47, 48, 49, 55, 56, 57, 58, 59, 66, 67, 68, 69, 77, 78, 79, 88, 89, 99, 111, 112, 113, 114, 115, 116, 117, 118, 119, 122, 123, 124, 125, 126, 127, 128, 129, 133, 134, 135, 136, 137, 138, 139, 144, 145, 146, 147, 148, 149, 155, 156, 157, 158, 159, 166, 167, 168, 169, 177, 178, 179, 188, 189, 199, 222, 223, 224, 225, 226, 227, 228, 229, 233, 234, 235, 236, 237, 238, 239, 244, 245, 246, 247, 248, 249, 255, 256, 257, 258, 259, 266, 267, 268, 269, 277, 278, 279, 288, 289, 299, 333, 334, 335, 336, 337, 338, 339, 344, 345, 346, 347, 348, 349, 355, 356, 357, 358, 359, 366, 367, 368, 369, 377, 378, 379, 388, 389, 399, 444, 445, 446, 447, 448, 449, 455, 456, 457, 458, 459, 466, 467, 468, 469, 477, 478, 479, 488, 489, 499, 555, 556, 557, 558, 559, 566, 567, 568, 569, 577, 578, 579, 588, 589, 599, 666, 667, 668, 669, 677, 678, 679, 688, 689, 699, 777, 778, 779, 788, 789, 799, 888, 889, 899, 999]\n"
     ]
    }
   ],
   "source": [
    "L=[ 100*a + 10*b +c for a in range(0,10)\n",
    "                    for b in range(0,10)\n",
    "                    for c in range(0,10) \n",
    "                    if a <= b <= c]\n",
    "print(L)"
   ]
  },
  {
   "cell_type": "code",
   "execution_count": 44,
   "id": "845d97ae",
   "metadata": {},
   "outputs": [
    {
     "name": "stdout",
     "output_type": "stream",
     "text": [
      "60885\n",
      "0\n"
     ]
    }
   ],
   "source": [
    "G = ( 100*a + 10*b + c for a in range(0,10)\n",
    "                       for b in range(0,10)\n",
    "                       for c in range(0,10) \n",
    "                       if a <= b <= c )\n",
    "print(sum(G))   # This iterates through all the elements from the generator\n",
    "print(sum(G))   # It doesn't restart from the beginning, so all elements are already consumed"
   ]
  },
  {
   "cell_type": "code",
   "execution_count": 45,
   "id": "efb735a1",
   "metadata": {},
   "outputs": [
    {
     "name": "stdout",
     "output_type": "stream",
     "text": [
      "{0: 0, 1: 1, 2: 4, 3: 9, 4: 16, 5: 25, 6: 36, 7: 49, 8: 64, 9: 81}\n"
     ]
    }
   ],
   "source": [
    "d={ k : k**2 for k in range(10)}\n",
    "print(d)"
   ]
  },
  {
   "cell_type": "code",
   "execution_count": 46,
   "id": "455c1404",
   "metadata": {},
   "outputs": [
    {
     "name": "stdout",
     "output_type": "stream",
     "text": [
      "{0, 1, 2, 3, 4, 5, 6, 7, 8, 9, 10, 12, 14, 15, 16, 18, 20, 21, 24, 25, 27, 28, 30, 32, 35, 36, 40, 42, 45, 48, 49, 54, 56, 63, 64, 72, 81}\n"
     ]
    }
   ],
   "source": [
    "s={ i*j for i in range(10) for j in range(10)}\n",
    "print(s)"
   ]
  },
  {
   "cell_type": "code",
   "execution_count": 47,
   "id": "e92b38bc",
   "metadata": {},
   "outputs": [
    {
     "name": "stdout",
     "output_type": "stream",
     "text": [
      "(1, 4)\n",
      "(2, 3)\n",
      "(3, 2)\n",
      "(4, 1)\n"
     ]
    }
   ],
   "source": [
    "def main():\n",
    "    combos = [(i+1, j+1) for i in range(6) for j in range(6) if ((i+1) + (j+1)) == 5]\n",
    "    for i in combos:\n",
    "        print(i)\n",
    "if __name__ == \"__main__\":\n",
    "    main()"
   ]
  },
  {
   "cell_type": "code",
   "execution_count": 48,
   "id": "c8ad28b9",
   "metadata": {},
   "outputs": [
    {
     "name": "stdout",
     "output_type": "stream",
     "text": [
      "<map object at 0x00000212299E7C40>\n"
     ]
    }
   ],
   "source": [
    "def double(x):\n",
    "    return 2*x\n",
    "L=[12,4,-1]\n",
    "print(map(double, L))"
   ]
  },
  {
   "cell_type": "code",
   "execution_count": 49,
   "id": "a8378c2e",
   "metadata": {},
   "outputs": [
    {
     "name": "stdout",
     "output_type": "stream",
     "text": [
      "[24, 8, -2]\n"
     ]
    }
   ],
   "source": [
    "print(list(map(double,L)))"
   ]
  },
  {
   "cell_type": "code",
   "execution_count": 50,
   "id": "e71c67d9",
   "metadata": {},
   "outputs": [
    {
     "name": "stdout",
     "output_type": "stream",
     "text": [
      "['12', '43', '64', '6']\n",
      "125\n"
     ]
    }
   ],
   "source": [
    "s=\"12 43 64 6\"\n",
    "L=s.split()        # The split method of the string class, breaks the string at whitespaces\n",
    "                   # to a list of strings.\n",
    "print(L)\n",
    "print(sum(map(int, L)))  # The int function converts a string to an integer"
   ]
  },
  {
   "cell_type": "code",
   "execution_count": 51,
   "id": "c1627e48",
   "metadata": {},
   "outputs": [],
   "source": [
    "def add_double_and_square(x):\n",
    "    return 2*x+x**2 "
   ]
  },
  {
   "cell_type": "code",
   "execution_count": 52,
   "id": "b39dc93f",
   "metadata": {},
   "outputs": [
    {
     "name": "stdout",
     "output_type": "stream",
     "text": [
      "[8, 15, 35]\n"
     ]
    }
   ],
   "source": [
    "L=[2,3,5]\n",
    "print(list(map(lambda x : 2*x+x**2, L)))"
   ]
  },
  {
   "cell_type": "code",
   "execution_count": 53,
   "id": "47df7bac",
   "metadata": {},
   "outputs": [
    {
     "name": "stdout",
     "output_type": "stream",
     "text": [
      "[2, 30, -3]\n"
     ]
    }
   ],
   "source": [
    "def transform(s1, s2):\n",
    "    if s1 == \"\" or s2 == \"\" or s1 == \"\" and s2 == \"\":\n",
    "        return []\n",
    "    return list(map(lambda x: int(x[0]) * int(x[1]), list(zip(s1.split(\" \"), s2.split(\" \")))))\n",
    "\n",
    "def main():\n",
    "    print(transform(\"1 5 3\", \"2 6 -1\"))\n",
    "\n",
    "if __name__ == \"__main__\":\n",
    "    main()"
   ]
  },
  {
   "cell_type": "code",
   "execution_count": 54,
   "id": "779e08c3",
   "metadata": {},
   "outputs": [
    {
     "name": "stdout",
     "output_type": "stream",
     "text": [
      "[1, 5, 9]\n"
     ]
    }
   ],
   "source": [
    "def is_odd(x):\n",
    "    \"\"\"Returns True if x is odd and False if x is even\"\"\"\n",
    "    return x % 2 == 1         # The % operator returns the remainder of integer division\n",
    "L=[1, 4, 5, 9, 10]\n",
    "print(list(filter(is_odd, L)))"
   ]
  },
  {
   "cell_type": "code",
   "execution_count": 55,
   "id": "ce032d87",
   "metadata": {},
   "outputs": [
    {
     "data": {
      "text/plain": [
       "[1, 25, 81]"
      ]
     },
     "execution_count": 55,
     "metadata": {},
     "output_type": "execute_result"
    }
   ],
   "source": [
    "[l**2 for l in L if is_odd(l)] # squares of odd values"
   ]
  },
  {
   "cell_type": "code",
   "execution_count": 56,
   "id": "357ce12a",
   "metadata": {},
   "outputs": [
    {
     "name": "stdout",
     "output_type": "stream",
     "text": [
      "[2, 1]\n"
     ]
    }
   ],
   "source": [
    "def positive_list(L):\n",
    "    return list(filter(lambda x: x>0, L))\n",
    "\n",
    "def main():\n",
    "    print(positive_list([2,-2,0,1,-7]))\n",
    "\n",
    "if __name__ == \"__main__\":\n",
    "    main()"
   ]
  },
  {
   "cell_type": "code",
   "execution_count": 57,
   "id": "c5e1115d",
   "metadata": {},
   "outputs": [],
   "source": [
    "def sumreduce(L):\n",
    "    s=0\n",
    "    for x in L:\n",
    "        s = s+x\n",
    "    return s"
   ]
  },
  {
   "cell_type": "code",
   "execution_count": 58,
   "id": "54937c4f",
   "metadata": {},
   "outputs": [
    {
     "data": {
      "text/plain": [
       "10"
      ]
     },
     "execution_count": 58,
     "metadata": {},
     "output_type": "execute_result"
    }
   ],
   "source": [
    "L=[1,2,3,4]\n",
    "from functools import reduce   # import the reduce function from the functools module\n",
    "reduce(lambda x,y:x+y, L, 0)"
   ]
  },
  {
   "cell_type": "code",
   "execution_count": 59,
   "id": "66aa05c0",
   "metadata": {},
   "outputs": [
    {
     "data": {
      "text/plain": [
       "24"
      ]
     },
     "execution_count": 59,
     "metadata": {},
     "output_type": "execute_result"
    }
   ],
   "source": [
    "reduce(lambda x,y:x*y, L, 1)"
   ]
  },
  {
   "cell_type": "code",
   "execution_count": 60,
   "id": "c1b3fca7",
   "metadata": {},
   "outputs": [],
   "source": [
    "s=\"text\"\n",
    "# s[0] = \"a\"    # This is not legal in Python"
   ]
  },
  {
   "cell_type": "code",
   "execution_count": 61,
   "id": "242ad34b",
   "metadata": {},
   "outputs": [
    {
     "name": "stdout",
     "output_type": "stream",
     "text": [
      "-----------\n",
      "|    *    |\n",
      "|   ***   |\n",
      "|  *****  |\n",
      "| ******* |\n",
      "|*********|\n",
      "|    *    |\n",
      "|    *    |\n",
      "-----------\n"
     ]
    }
   ],
   "source": [
    "L=[1,3,5,7,9,1,1]\n",
    "print(\"-\"*11)\n",
    "for i in L:\n",
    "    s=\"*\"*i \n",
    "    print(f\"|{s.center(9)}|\")\n",
    "print(\"-\"*11)"
   ]
  },
  {
   "cell_type": "code",
   "execution_count": 62,
   "id": "bbc4a228",
   "metadata": {},
   "outputs": [
    {
     "data": {
      "text/plain": [
       "'abc--def--ghi'"
      ]
     },
     "execution_count": 62,
     "metadata": {},
     "output_type": "execute_result"
    }
   ],
   "source": [
    "\"--\".join([\"abc\", \"def\", \"ghi\"])"
   ]
  },
  {
   "cell_type": "code",
   "execution_count": 63,
   "id": "326d8d52",
   "metadata": {},
   "outputs": [
    {
     "data": {
      "text/plain": [
       "'abc--def--ghi'"
      ]
     },
     "execution_count": 63,
     "metadata": {},
     "output_type": "execute_result"
    }
   ],
   "source": [
    "'abc--def--ghi'"
   ]
  },
  {
   "cell_type": "code",
   "execution_count": 64,
   "id": "bb505563",
   "metadata": {},
   "outputs": [
    {
     "name": "stdout",
     "output_type": "stream",
     "text": [
      " 0 1 2 3 4 5 6 7 8 9 10 11 12 13 14 15 16 17 18 19 20 21 22 23 24 25 26 27 28 29 30 31 32 33 34 35 36 37 38 39 40 41 42 43 44 45 46 47 48 49 50 51 52 53 54 55 56 57 58 59 60 61 62 63 64 65 66 67 68 69 70 71 72 73 74 75 76 77 78 79 80 81 82 83 84 85 86 87 88 89 90 91 92 93 94 95 96 97 98 99\n",
      "0 1 2 3 4 5 6 7 8 9 10 11 12 13 14 15 16 17 18 19 20 21 22 23 24 25 26 27 28 29 30 31 32 33 34 35 36 37 38 39 40 41 42 43 44 45 46 47 48 49 50 51 52 53 54 55 56 57 58 59 60 61 62 63 64 65 66 67 68 69 70 71 72 73 74 75 76 77 78 79 80 81 82 83 84 85 86 87 88 89 90 91 92 93 94 95 96 97 98 99\n"
     ]
    }
   ],
   "source": [
    "L=[str(x) for x in range(100)]\n",
    "s=\"\"\n",
    "for x in L:\n",
    "    s += \" \" + x    # Avoid doing this, it creates a new string at every iteration\n",
    "print(s)            # Note the redundant initial space\n",
    "print(\" \".join(L))  # This is the correct way of building a string out of smaller strings"
   ]
  },
  {
   "cell_type": "code",
   "execution_count": 65,
   "id": "e22ca565",
   "metadata": {},
   "outputs": [
    {
     "name": "stdout",
     "output_type": "stream",
     "text": [
      "9.03 µs ± 186 ns per loop (mean ± std. dev. of 7 runs, 100,000 loops each)\n"
     ]
    }
   ],
   "source": [
    "%%timeit\n",
    "s=\"\"\n",
    "for x in L:\n",
    "    s += \" \" + x"
   ]
  },
  {
   "cell_type": "code",
   "execution_count": 66,
   "id": "e74fb843",
   "metadata": {},
   "outputs": [
    {
     "name": "stdout",
     "output_type": "stream",
     "text": [
      "995 ns ± 27.2 ns per loop (mean ± std. dev. of 7 runs, 1,000,000 loops each)\n"
     ]
    }
   ],
   "source": [
    "%%timeit\n",
    "s = \" \".join(L)"
   ]
  },
  {
   "cell_type": "code",
   "execution_count": 67,
   "id": "c79e6591",
   "metadata": {},
   "outputs": [
    {
     "data": {
      "text/plain": [
       "['abc', 'def', 'ghi']"
      ]
     },
     "execution_count": 67,
     "metadata": {},
     "output_type": "execute_result"
    }
   ],
   "source": [
    "'abc--def--ghi'.split(\"--\")"
   ]
  },
  {
   "cell_type": "code",
   "execution_count": 68,
   "id": "c64737f2",
   "metadata": {},
   "outputs": [
    {
     "data": {
      "text/plain": [
       "['abc', 'def', 'ghi']"
      ]
     },
     "execution_count": 68,
     "metadata": {},
     "output_type": "execute_result"
    }
   ],
   "source": [
    "['abc', 'def', 'ghi']"
   ]
  },
  {
   "cell_type": "code",
   "execution_count": 69,
   "id": "ba6c9741",
   "metadata": {},
   "outputs": [
    {
     "name": "stdout",
     "output_type": "stream",
     "text": [
      "['EU', 'GDPR', 'IBM', 'IBM', 'EEA', 'EEA', 'IBM', 'PO', 'PO6', '3AU']\n"
     ]
    }
   ],
   "source": [
    "import string\n",
    "\n",
    "def acronyms(s):\n",
    "    cleared = ''.join(letter for letter in s if letter.isalnum() or letter == \" \")\n",
    "    return [i for i in cleared.split(\" \") if len(i) >= 2 and i.isupper()]       \n",
    "def main():\n",
    "    print(acronyms(\"\"\"For the purposes of the EU General Data Protection Regulation (GDPR), the controller of your personal information is International Business Machines Corporation (IBM Corp.), 1 New Orchard Road, Armonk, New York, United States, unless indicated otherwise. Where IBM Corp. or a subsidiary it controls (not established in the European Economic Area (EEA)) is required to appoint a legal representative in the EEA, the representative for all such cases is IBM United Kingdom Limited, PO Box 41, North Harbour, Portsmouth, Hampshire, United Kingdom PO6 3AU.\"\"\"))\n",
    "\n",
    "\n",
    "if __name__ == \"__main__\":\n",
    "    main()"
   ]
  },
  {
   "cell_type": "code",
   "execution_count": 70,
   "id": "d5dcaef7",
   "metadata": {},
   "outputs": [
    {
     "name": "stdout",
     "output_type": "stream",
     "text": [
      "1 + 5 + 7 = 13\n"
     ]
    }
   ],
   "source": [
    "def sum_equation(L):\n",
    "    if len(L) == 0:\n",
    "        return \"0 = 0\"\n",
    "    res_string = ''\n",
    "    for i in L:\n",
    "        if i == L[-1]:\n",
    "            res_string+=f\"{str(i)} = \"\n",
    "        else:\n",
    "            res_string+=f\"{str(i)} + \"\n",
    "    return res_string + f\"{str(sum(L))}\"\n",
    "    \n",
    "\n",
    "def main():\n",
    "    print(sum_equation([1,5,7]))\n",
    "\n",
    "if __name__ == \"__main__\":\n",
    "    main()"
   ]
  },
  {
   "cell_type": "code",
   "execution_count": 71,
   "id": "6cf4d00b",
   "metadata": {},
   "outputs": [
    {
     "data": {
      "text/plain": [
       "1.0"
      ]
     },
     "execution_count": 71,
     "metadata": {},
     "output_type": "execute_result"
    }
   ],
   "source": [
    "math.cos(0)\n",
    "1.0"
   ]
  },
  {
   "cell_type": "code",
   "execution_count": 72,
   "id": "991cad62",
   "metadata": {},
   "outputs": [],
   "source": [
    "from numpy.linalg import linalg"
   ]
  },
  {
   "cell_type": "code",
   "execution_count": 73,
   "id": "1f174622",
   "metadata": {},
   "outputs": [],
   "source": [
    "from numpy.linalg import linalg as lin"
   ]
  },
  {
   "cell_type": "code",
   "execution_count": 74,
   "id": "03fe70fd",
   "metadata": {},
   "outputs": [],
   "source": [
    "from numpy.linalg.linalg import det"
   ]
  },
  {
   "cell_type": "code",
   "execution_count": 75,
   "id": "5cadf99f",
   "metadata": {},
   "outputs": [],
   "source": [
    "a=5\n",
    "def f(i):\n",
    "    return i + 1"
   ]
  },
  {
   "cell_type": "code",
   "execution_count": 76,
   "id": "50dc35c2",
   "metadata": {},
   "outputs": [
    {
     "name": "stdout",
     "output_type": "stream",
     "text": [
      "Hello\n",
      "Hello\n",
      "Hello\n"
     ]
    }
   ],
   "source": [
    "for _ in range(3):\n",
    "    print(\"Hello\")"
   ]
  },
  {
   "cell_type": "code",
   "execution_count": 77,
   "id": "a7a3d084",
   "metadata": {},
   "outputs": [
    {
     "name": "stdout",
     "output_type": "stream",
     "text": [
      "Hello\n",
      "Hello\n",
      "Hello\n"
     ]
    }
   ],
   "source": [
    "def main():\n",
    "    for _ in range(3):\n",
    "        print(\"Hello\")\n",
    "\n",
    "if __name__ == \"__main__\":    # We call main only when this module is not being imported, but directly executed\n",
    "    main()                    # for example with 'python3 mod.py'"
   ]
  },
  {
   "cell_type": "code",
   "execution_count": 78,
   "id": "6bef4913",
   "metadata": {},
   "outputs": [
    {
     "name": "stdout",
     "output_type": "stream",
     "text": [
      "Hello\n",
      "Hello\n",
      "Hello\n"
     ]
    }
   ],
   "source": [
    "for _ in range(3):\n",
    "    print(\"Hello\")"
   ]
  },
  {
   "cell_type": "code",
   "execution_count": 80,
   "id": "971bf4b2",
   "metadata": {},
   "outputs": [],
   "source": []
  },
  {
   "cell_type": "code",
   "execution_count": 81,
   "id": "e46e8f30",
   "metadata": {
    "scrolled": true
   },
   "outputs": [
    {
     "ename": "ModuleNotFoundError",
     "evalue": "No module named 'triangle'",
     "output_type": "error",
     "traceback": [
      "\u001b[1;31m---------------------------------------------------------------------------\u001b[0m",
      "\u001b[1;31mModuleNotFoundError\u001b[0m                       Traceback (most recent call last)",
      "Cell \u001b[1;32mIn[81], line 2\u001b[0m\n\u001b[0;32m      1\u001b[0m \u001b[38;5;28;01mtry\u001b[39;00m:\n\u001b[1;32m----> 2\u001b[0m     \u001b[38;5;28;01mfrom\u001b[39;00m \u001b[38;5;21;01msrc\u001b[39;00m \u001b[38;5;28;01mimport\u001b[39;00m triangle\n\u001b[0;32m      3\u001b[0m \u001b[38;5;28;01mexcept\u001b[39;00m \u001b[38;5;167;01mModuleNotFoundError\u001b[39;00m:\n",
      "\u001b[1;31mModuleNotFoundError\u001b[0m: No module named 'src'",
      "\nDuring handling of the above exception, another exception occurred:\n",
      "\u001b[1;31mModuleNotFoundError\u001b[0m                       Traceback (most recent call last)",
      "Cell \u001b[1;32mIn[81], line 4\u001b[0m\n\u001b[0;32m      2\u001b[0m     \u001b[38;5;28;01mfrom\u001b[39;00m \u001b[38;5;21;01msrc\u001b[39;00m \u001b[38;5;28;01mimport\u001b[39;00m triangle\n\u001b[0;32m      3\u001b[0m \u001b[38;5;28;01mexcept\u001b[39;00m \u001b[38;5;167;01mModuleNotFoundError\u001b[39;00m:\n\u001b[1;32m----> 4\u001b[0m     \u001b[38;5;28;01mimport\u001b[39;00m \u001b[38;5;21;01mtriangle\u001b[39;00m\n\u001b[0;32m      6\u001b[0m \u001b[38;5;28;01mdef\u001b[39;00m \u001b[38;5;21mmain\u001b[39m():\n\u001b[0;32m      7\u001b[0m     \u001b[38;5;28mprint\u001b[39m(triangle\u001b[38;5;241m.\u001b[39mhypotenuse(\u001b[38;5;241m1\u001b[39m, \u001b[38;5;241m8\u001b[39m))\n",
      "\u001b[1;31mModuleNotFoundError\u001b[0m: No module named 'triangle'"
     ]
    }
   ],
   "source": []
  },
  {
   "cell_type": "code",
   "execution_count": null,
   "id": "a368d478",
   "metadata": {},
   "outputs": [],
   "source": []
  }
 ],
 "metadata": {
  "kernelspec": {
   "display_name": "Python 3 (ipykernel)",
   "language": "python",
   "name": "python3"
  },
  "language_info": {
   "codemirror_mode": {
    "name": "ipython",
    "version": 3
   },
   "file_extension": ".py",
   "mimetype": "text/x-python",
   "name": "python",
   "nbconvert_exporter": "python",
   "pygments_lexer": "ipython3",
   "version": "3.11.5"
  }
 },
 "nbformat": 4,
 "nbformat_minor": 5
}
