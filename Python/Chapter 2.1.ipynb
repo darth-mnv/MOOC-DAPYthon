{
 "cells": [
  {
   "cell_type": "code",
   "execution_count": 1,
   "id": "4a7fb052",
   "metadata": {},
   "outputs": [
    {
     "data": {
      "text/plain": [
       "['Doing', 'going', 'staying', 'sleeping']"
      ]
     },
     "execution_count": 1,
     "metadata": {},
     "output_type": "execute_result"
    }
   ],
   "source": [
    "import re\n",
    "s = \"Doing things, going home, staying awake, sleeping later\"\n",
    "re.findall(r'\\w+ing\\b', s)"
   ]
  },
  {
   "cell_type": "code",
   "execution_count": 2,
   "id": "44878e64",
   "metadata": {},
   "outputs": [
    {
     "data": {
      "text/plain": [
       "['23', '-24', '-1']"
      ]
     },
     "execution_count": 2,
     "metadata": {},
     "output_type": "execute_result"
    }
   ],
   "source": [
    "re.findall(r'[+-]?\\d+', \"23 + -24 = -1\")"
   ]
  },
  {
   "cell_type": "code",
   "execution_count": 3,
   "id": "3ff94154",
   "metadata": {},
   "outputs": [
    {
     "data": {
      "text/plain": [
       "['I’m not in a hurry, then I should stay. On the other hand, if I leave']"
      ]
     },
     "execution_count": 3,
     "metadata": {},
     "output_type": "execute_result"
    }
   ],
   "source": [
    "s = (\"If I’m not in a hurry, then I should stay. \" +\n",
    "    \"On the other hand, if I leave, then I can sleep.\")\n",
    "re.findall(r'[Ii]f (.*), then', s)"
   ]
  },
  {
   "cell_type": "code",
   "execution_count": 4,
   "id": "1a03e02a",
   "metadata": {},
   "outputs": [
    {
     "name": "stdout",
     "output_type": "stream",
     "text": [
      "he goes where he wants to, he's a sheriff.\n"
     ]
    }
   ],
   "source": [
    "import re\n",
    "str = \"She goes where she wants to, she's a sheriff.\"\n",
    "newstr = re.sub(r'\\b[Ss]he\\b', 'he', str)\n",
    "print(newstr)"
   ]
  },
  {
   "cell_type": "code",
   "execution_count": 5,
   "id": "7ef46956",
   "metadata": {},
   "outputs": [
    {
     "name": "stdout",
     "output_type": "stream",
     "text": [
      "He (The Doctor) is a timelord.\n",
      "He has a Tardis.\n"
     ]
    }
   ],
   "source": [
    "import re\n",
    "str = \"\"\"He is a timelord.\n",
    "He has a Tardis.\"\"\"\n",
    "newstr = re.sub(r'(\\b[Hh]e\\b)', r'\\1 (The Doctor)', str, 1)\n",
    "print(newstr)"
   ]
  },
  {
   "cell_type": "code",
   "execution_count": 6,
   "id": "b9f3acaa",
   "metadata": {},
   "outputs": [],
   "source": [
    "mo = re.search(r'\\d+ (\\d+) \\d+ (\\d+)',\n",
    "'first 123 45 67 890 last')"
   ]
  },
  {
   "cell_type": "code",
   "execution_count": 7,
   "id": "6c3c3f39",
   "metadata": {},
   "outputs": [
    {
     "ename": "SyntaxError",
     "evalue": "incomplete input (3178477395.py, line 3)",
     "output_type": "error",
     "traceback": [
      "\u001b[1;36m  Cell \u001b[1;32mIn[7], line 3\u001b[1;36m\u001b[0m\n\u001b[1;33m    # do something\u001b[0m\n\u001b[1;37m                  ^\u001b[0m\n\u001b[1;31mSyntaxError\u001b[0m\u001b[1;31m:\u001b[0m incomplete input\n"
     ]
    }
   ],
   "source": [
    "mo = re.search(...)\n",
    "if mo:\n",
    "    # do something"
   ]
  },
  {
   "cell_type": "code",
   "execution_count": 8,
   "id": "4dc9b3f4",
   "metadata": {},
   "outputs": [
    {
     "data": {
      "text/plain": [
       "b'\\xc3\\xa4'"
      ]
     },
     "execution_count": 8,
     "metadata": {},
     "output_type": "execute_result"
    }
   ],
   "source": [
    "\"ä\".encode(\"utf-8\")"
   ]
  },
  {
   "cell_type": "code",
   "execution_count": 9,
   "id": "806256fb",
   "metadata": {},
   "outputs": [
    {
     "data": {
      "text/plain": [
       "[195, 164]"
      ]
     },
     "execution_count": 9,
     "metadata": {},
     "output_type": "execute_result"
    }
   ],
   "source": [
    "list(\"ä\".encode(\"utf-8\"))              # Show as a list of integers"
   ]
  },
  {
   "cell_type": "code",
   "execution_count": 10,
   "id": "d3701aa7",
   "metadata": {},
   "outputs": [
    {
     "ename": "FileNotFoundError",
     "evalue": "[Errno 2] No such file or directory: 'basics.ipynb'",
     "output_type": "error",
     "traceback": [
      "\u001b[1;31m---------------------------------------------------------------------------\u001b[0m",
      "\u001b[1;31mFileNotFoundError\u001b[0m                         Traceback (most recent call last)",
      "Cell \u001b[1;32mIn[10], line 1\u001b[0m\n\u001b[1;32m----> 1\u001b[0m f \u001b[38;5;241m=\u001b[39m \u001b[38;5;28mopen\u001b[39m(\u001b[38;5;124m\"\u001b[39m\u001b[38;5;124mbasics.ipynb\u001b[39m\u001b[38;5;124m\"\u001b[39m, \u001b[38;5;124m\"\u001b[39m\u001b[38;5;124mr\u001b[39m\u001b[38;5;124m\"\u001b[39m) \u001b[38;5;66;03m# Let's open this notebook file, \u001b[39;00m\n\u001b[0;32m      2\u001b[0m                               \u001b[38;5;66;03m# which is essentially a text file.\u001b[39;00m\n\u001b[0;32m      3\u001b[0m                               \u001b[38;5;66;03m# So you can open it in a texteditor as well.\u001b[39;00m\n\u001b[0;32m      5\u001b[0m \u001b[38;5;28;01mfor\u001b[39;00m i \u001b[38;5;129;01min\u001b[39;00m \u001b[38;5;28mrange\u001b[39m(\u001b[38;5;241m5\u001b[39m):            \u001b[38;5;66;03m# And read the first five lines\u001b[39;00m\n",
      "File \u001b[1;32mC:\\ProgramData\\anaconda3\\Lib\\site-packages\\IPython\\core\\interactiveshell.py:286\u001b[0m, in \u001b[0;36m_modified_open\u001b[1;34m(file, *args, **kwargs)\u001b[0m\n\u001b[0;32m    279\u001b[0m \u001b[38;5;28;01mif\u001b[39;00m file \u001b[38;5;129;01min\u001b[39;00m {\u001b[38;5;241m0\u001b[39m, \u001b[38;5;241m1\u001b[39m, \u001b[38;5;241m2\u001b[39m}:\n\u001b[0;32m    280\u001b[0m     \u001b[38;5;28;01mraise\u001b[39;00m \u001b[38;5;167;01mValueError\u001b[39;00m(\n\u001b[0;32m    281\u001b[0m         \u001b[38;5;124mf\u001b[39m\u001b[38;5;124m\"\u001b[39m\u001b[38;5;124mIPython won\u001b[39m\u001b[38;5;124m'\u001b[39m\u001b[38;5;124mt let you open fd=\u001b[39m\u001b[38;5;132;01m{\u001b[39;00mfile\u001b[38;5;132;01m}\u001b[39;00m\u001b[38;5;124m by default \u001b[39m\u001b[38;5;124m\"\u001b[39m\n\u001b[0;32m    282\u001b[0m         \u001b[38;5;124m\"\u001b[39m\u001b[38;5;124mas it is likely to crash IPython. If you know what you are doing, \u001b[39m\u001b[38;5;124m\"\u001b[39m\n\u001b[0;32m    283\u001b[0m         \u001b[38;5;124m\"\u001b[39m\u001b[38;5;124myou can use builtins\u001b[39m\u001b[38;5;124m'\u001b[39m\u001b[38;5;124m open.\u001b[39m\u001b[38;5;124m\"\u001b[39m\n\u001b[0;32m    284\u001b[0m     )\n\u001b[1;32m--> 286\u001b[0m \u001b[38;5;28;01mreturn\u001b[39;00m io_open(file, \u001b[38;5;241m*\u001b[39margs, \u001b[38;5;241m*\u001b[39m\u001b[38;5;241m*\u001b[39mkwargs)\n",
      "\u001b[1;31mFileNotFoundError\u001b[0m: [Errno 2] No such file or directory: 'basics.ipynb'"
     ]
    }
   ],
   "source": [
    "f = open(\"basics.ipynb\", \"r\") # Let's open this notebook file, \n",
    "                              # which is essentially a text file.\n",
    "                              # So you can open it in a texteditor as well.\n",
    "        \n",
    "for i in range(5):            # And read the first five lines\n",
    "    line = f.readline()\n",
    "    print(f\"Line {i}: {line}\", end=\"\")\n",
    "f.close()"
   ]
  },
  {
   "cell_type": "code",
   "execution_count": 11,
   "id": "8beafb05",
   "metadata": {},
   "outputs": [
    {
     "ename": "FileNotFoundError",
     "evalue": "[Errno 2] No such file or directory: 'basics.ipynb'",
     "output_type": "error",
     "traceback": [
      "\u001b[1;31m---------------------------------------------------------------------------\u001b[0m",
      "\u001b[1;31mFileNotFoundError\u001b[0m                         Traceback (most recent call last)",
      "Cell \u001b[1;32mIn[11], line 1\u001b[0m\n\u001b[1;32m----> 1\u001b[0m \u001b[38;5;28;01mwith\u001b[39;00m \u001b[38;5;28mopen\u001b[39m(\u001b[38;5;124m\"\u001b[39m\u001b[38;5;124mbasics.ipynb\u001b[39m\u001b[38;5;124m\"\u001b[39m, \u001b[38;5;124m\"\u001b[39m\u001b[38;5;124mr\u001b[39m\u001b[38;5;124m\"\u001b[39m) \u001b[38;5;28;01mas\u001b[39;00m f:          \u001b[38;5;66;03m# the file will be automatically closed,\u001b[39;00m\n\u001b[0;32m      2\u001b[0m                                               \u001b[38;5;66;03m# when the with block exits\u001b[39;00m\n\u001b[0;32m      3\u001b[0m     \u001b[38;5;28;01mfor\u001b[39;00m i \u001b[38;5;129;01min\u001b[39;00m \u001b[38;5;28mrange\u001b[39m(\u001b[38;5;241m5\u001b[39m):\n\u001b[0;32m      4\u001b[0m         line \u001b[38;5;241m=\u001b[39m f\u001b[38;5;241m.\u001b[39mreadline()\n",
      "File \u001b[1;32mC:\\ProgramData\\anaconda3\\Lib\\site-packages\\IPython\\core\\interactiveshell.py:286\u001b[0m, in \u001b[0;36m_modified_open\u001b[1;34m(file, *args, **kwargs)\u001b[0m\n\u001b[0;32m    279\u001b[0m \u001b[38;5;28;01mif\u001b[39;00m file \u001b[38;5;129;01min\u001b[39;00m {\u001b[38;5;241m0\u001b[39m, \u001b[38;5;241m1\u001b[39m, \u001b[38;5;241m2\u001b[39m}:\n\u001b[0;32m    280\u001b[0m     \u001b[38;5;28;01mraise\u001b[39;00m \u001b[38;5;167;01mValueError\u001b[39;00m(\n\u001b[0;32m    281\u001b[0m         \u001b[38;5;124mf\u001b[39m\u001b[38;5;124m\"\u001b[39m\u001b[38;5;124mIPython won\u001b[39m\u001b[38;5;124m'\u001b[39m\u001b[38;5;124mt let you open fd=\u001b[39m\u001b[38;5;132;01m{\u001b[39;00mfile\u001b[38;5;132;01m}\u001b[39;00m\u001b[38;5;124m by default \u001b[39m\u001b[38;5;124m\"\u001b[39m\n\u001b[0;32m    282\u001b[0m         \u001b[38;5;124m\"\u001b[39m\u001b[38;5;124mas it is likely to crash IPython. If you know what you are doing, \u001b[39m\u001b[38;5;124m\"\u001b[39m\n\u001b[0;32m    283\u001b[0m         \u001b[38;5;124m\"\u001b[39m\u001b[38;5;124myou can use builtins\u001b[39m\u001b[38;5;124m'\u001b[39m\u001b[38;5;124m open.\u001b[39m\u001b[38;5;124m\"\u001b[39m\n\u001b[0;32m    284\u001b[0m     )\n\u001b[1;32m--> 286\u001b[0m \u001b[38;5;28;01mreturn\u001b[39;00m io_open(file, \u001b[38;5;241m*\u001b[39margs, \u001b[38;5;241m*\u001b[39m\u001b[38;5;241m*\u001b[39mkwargs)\n",
      "\u001b[1;31mFileNotFoundError\u001b[0m: [Errno 2] No such file or directory: 'basics.ipynb'"
     ]
    }
   ],
   "source": [
    "with open(\"basics.ipynb\", \"r\") as f:          # the file will be automatically closed,\n",
    "                                              # when the with block exits\n",
    "    for i in range(5):\n",
    "        line = f.readline()\n",
    "        print(f\"Line {i}: {line}\", end=\"\")"
   ]
  },
  {
   "cell_type": "code",
   "execution_count": 12,
   "id": "b3ac187f",
   "metadata": {},
   "outputs": [
    {
     "ename": "FileNotFoundError",
     "evalue": "[Errno 2] No such file or directory: 'basics.ipynb'",
     "output_type": "error",
     "traceback": [
      "\u001b[1;31m---------------------------------------------------------------------------\u001b[0m",
      "\u001b[1;31mFileNotFoundError\u001b[0m                         Traceback (most recent call last)",
      "Cell \u001b[1;32mIn[12], line 2\u001b[0m\n\u001b[0;32m      1\u001b[0m max_len \u001b[38;5;241m=\u001b[39m \u001b[38;5;241m0\u001b[39m\n\u001b[1;32m----> 2\u001b[0m \u001b[38;5;28;01mwith\u001b[39;00m \u001b[38;5;28mopen\u001b[39m(\u001b[38;5;124m\"\u001b[39m\u001b[38;5;124mbasics.ipynb\u001b[39m\u001b[38;5;124m\"\u001b[39m, \u001b[38;5;124m\"\u001b[39m\u001b[38;5;124mr\u001b[39m\u001b[38;5;124m\"\u001b[39m) \u001b[38;5;28;01mas\u001b[39;00m f:\n\u001b[0;32m      3\u001b[0m     \u001b[38;5;28;01mfor\u001b[39;00m line \u001b[38;5;129;01min\u001b[39;00m f:    \u001b[38;5;66;03m# iterates through all the lines in the file\u001b[39;00m\n\u001b[0;32m      4\u001b[0m         \u001b[38;5;28;01mif\u001b[39;00m \u001b[38;5;28mlen\u001b[39m(line) \u001b[38;5;241m>\u001b[39m max_len:\n",
      "File \u001b[1;32mC:\\ProgramData\\anaconda3\\Lib\\site-packages\\IPython\\core\\interactiveshell.py:286\u001b[0m, in \u001b[0;36m_modified_open\u001b[1;34m(file, *args, **kwargs)\u001b[0m\n\u001b[0;32m    279\u001b[0m \u001b[38;5;28;01mif\u001b[39;00m file \u001b[38;5;129;01min\u001b[39;00m {\u001b[38;5;241m0\u001b[39m, \u001b[38;5;241m1\u001b[39m, \u001b[38;5;241m2\u001b[39m}:\n\u001b[0;32m    280\u001b[0m     \u001b[38;5;28;01mraise\u001b[39;00m \u001b[38;5;167;01mValueError\u001b[39;00m(\n\u001b[0;32m    281\u001b[0m         \u001b[38;5;124mf\u001b[39m\u001b[38;5;124m\"\u001b[39m\u001b[38;5;124mIPython won\u001b[39m\u001b[38;5;124m'\u001b[39m\u001b[38;5;124mt let you open fd=\u001b[39m\u001b[38;5;132;01m{\u001b[39;00mfile\u001b[38;5;132;01m}\u001b[39;00m\u001b[38;5;124m by default \u001b[39m\u001b[38;5;124m\"\u001b[39m\n\u001b[0;32m    282\u001b[0m         \u001b[38;5;124m\"\u001b[39m\u001b[38;5;124mas it is likely to crash IPython. If you know what you are doing, \u001b[39m\u001b[38;5;124m\"\u001b[39m\n\u001b[0;32m    283\u001b[0m         \u001b[38;5;124m\"\u001b[39m\u001b[38;5;124myou can use builtins\u001b[39m\u001b[38;5;124m'\u001b[39m\u001b[38;5;124m open.\u001b[39m\u001b[38;5;124m\"\u001b[39m\n\u001b[0;32m    284\u001b[0m     )\n\u001b[1;32m--> 286\u001b[0m \u001b[38;5;28;01mreturn\u001b[39;00m io_open(file, \u001b[38;5;241m*\u001b[39margs, \u001b[38;5;241m*\u001b[39m\u001b[38;5;241m*\u001b[39mkwargs)\n",
      "\u001b[1;31mFileNotFoundError\u001b[0m: [Errno 2] No such file or directory: 'basics.ipynb'"
     ]
    }
   ],
   "source": [
    "max_len = 0\n",
    "with open(\"basics.ipynb\", \"r\") as f:\n",
    "    for line in f:    # iterates through all the lines in the file\n",
    "        if len(line) > max_len:\n",
    "            max_len = len(line)\n",
    "print(f\"The longest line in this file has length {max_len}\")"
   ]
  },
  {
   "cell_type": "code",
   "execution_count": 13,
   "id": "4814a771",
   "metadata": {},
   "outputs": [
    {
     "name": "stdout",
     "output_type": "stream",
     "text": [
      "Got a positive integer.\n"
     ]
    }
   ],
   "source": [
    "import sys\n",
    "import random\n",
    "i=random.randint(-10,10)\n",
    "if i >= 0:\n",
    "    sys.stdout.write(\"Got a positive integer.\\n\")\n",
    "else:\n",
    "    sys.stderr.write(\"Got a negative integer.\\n\")"
   ]
  },
  {
   "cell_type": "code",
   "execution_count": 14,
   "id": "b327d810",
   "metadata": {},
   "outputs": [
    {
     "ename": "SyntaxError",
     "evalue": "incomplete input (4189814876.py, line 4)",
     "output_type": "error",
     "traceback": [
      "\u001b[1;36m  Cell \u001b[1;32mIn[14], line 4\u001b[1;36m\u001b[0m\n\u001b[1;33m    # Statements in here are executed when the above conversion fails\u001b[0m\n\u001b[1;37m                                                                     ^\u001b[0m\n\u001b[1;31mSyntaxError\u001b[0m\u001b[1;31m:\u001b[0m incomplete input\n"
     ]
    }
   ],
   "source": [
    "try:\n",
    "    x = float(line)           # The float constructor raises ValueError exception if conversion is no possible\n",
    "except ValueError:\n",
    "    # Statements in here are executed when the above conversion fails"
   ]
  },
  {
   "cell_type": "code",
   "execution_count": 15,
   "id": "4c59c139",
   "metadata": {},
   "outputs": [],
   "source": [
    "class MyClass(object):\n",
    "    \"\"\"Documentation string of the class\"\"\"\n",
    "\n",
    "    def __init__(self, param1, param2):\n",
    "        \"This initialises an instance of type ClassName\"\n",
    "        self.b = param1 # creates an instance attribute\n",
    "        c = param2      # creates a local variable of the function\n",
    "        # statements ...\n",
    "    \n",
    "    def f(self, param1):\n",
    "        \"\"\"This is a method of the class\"\"\"\n",
    "        # some statements\n",
    "    \n",
    "    a=1 # This creates a class attribute"
   ]
  },
  {
   "cell_type": "code",
   "execution_count": 16,
   "id": "5a5cdf7a",
   "metadata": {},
   "outputs": [
    {
     "ename": "NameError",
     "evalue": "name 'Prepend' is not defined",
     "output_type": "error",
     "traceback": [
      "\u001b[1;31m---------------------------------------------------------------------------\u001b[0m",
      "\u001b[1;31mNameError\u001b[0m                                 Traceback (most recent call last)",
      "Cell \u001b[1;32mIn[16], line 1\u001b[0m\n\u001b[1;32m----> 1\u001b[0m p \u001b[38;5;241m=\u001b[39m Prepend(\u001b[38;5;124m\"\u001b[39m\u001b[38;5;124m+++ \u001b[39m\u001b[38;5;124m\"\u001b[39m)\n\u001b[0;32m      2\u001b[0m p\u001b[38;5;241m.\u001b[39mwrite(\u001b[38;5;124m\"\u001b[39m\u001b[38;5;124mHello\u001b[39m\u001b[38;5;124m\"\u001b[39m)\n",
      "\u001b[1;31mNameError\u001b[0m: name 'Prepend' is not defined"
     ]
    }
   ],
   "source": [
    "p = Prepend(\"+++ \")\n",
    "p.write(\"Hello\");"
   ]
  },
  {
   "cell_type": "code",
   "execution_count": 17,
   "id": "56b5f82d",
   "metadata": {},
   "outputs": [
    {
     "name": "stdout",
     "output_type": "stream",
     "text": [
      "Executing B.f\n",
      "Executing C.g\n"
     ]
    }
   ],
   "source": [
    "class B(object):\n",
    "    def f(self):\n",
    "        print(\"Executing B.f\")\n",
    "    def g(self):\n",
    "        print(\"Executing B.g\")\n",
    "    \n",
    "class C(B):\n",
    "    def g(self):\n",
    "        print(\"Executing C.g\")\n",
    "        \n",
    "x=C()\n",
    "x.f() # inherited from B\n",
    "x.g() # overridden by C"
   ]
  },
  {
   "cell_type": "code",
   "execution_count": 18,
   "id": "3fcf6a99",
   "metadata": {},
   "outputs": [
    {
     "name": "stdout",
     "output_type": "stream",
     "text": [
      "Index does not exist\n"
     ]
    }
   ],
   "source": [
    "L=[1,2,3]\n",
    "try:\n",
    "    print(L[3])\n",
    "except IndexError:\n",
    "    print(\"Index does not exist\")"
   ]
  },
  {
   "cell_type": "code",
   "execution_count": 19,
   "id": "04f376f9",
   "metadata": {},
   "outputs": [
    {
     "name": "stdout",
     "output_type": "stream",
     "text": [
      "Give a number (non-number quits): 7\n",
      "Give a number (non-number quits): a\n",
      "Average is 7.0\n"
     ]
    }
   ],
   "source": [
    "def compute_average(L):\n",
    "    n=len(L)\n",
    "    s=sum(L)\n",
    "    return float(s)/n # error is noticed here !!!\n",
    "mylist=[]\n",
    "while True:\n",
    "    try:\n",
    "        x=float(input(\"Give a number (non-number quits): \"))\n",
    "        mylist.append(x)\n",
    "    except ValueError:\n",
    "        break\n",
    "try:\n",
    "    average=compute_average(mylist)\n",
    "    print(\"Average is\", average)\n",
    "except ZeroDivisionError:\n",
    "    # and the error is handled here\n",
    "    if len(mylist) == 0:\n",
    "        print(\"Tried to compute the average of empty list of numbers\")\n",
    "    else:\n",
    "        print(\"Something strange happened\")"
   ]
  },
  {
   "cell_type": "code",
   "execution_count": 20,
   "id": "441dfda4",
   "metadata": {},
   "outputs": [
    {
     "name": "stdout",
     "output_type": "stream",
     "text": [
      "Give a number: 7\n",
      "You didn’t enter a number\n"
     ]
    }
   ],
   "source": [
    "import sys\n",
    "s=input(\"Give a number: \")\n",
    "s=s[:-1] # strip the \\n character from the end\n",
    "try:\n",
    "    x=int(s)\n",
    "    sys.stdout.wr1te(f\"You entered {x}\\n\")\n",
    "except Exception:\n",
    "    print(\"You didn’t enter a number\")"
   ]
  },
  {
   "cell_type": "code",
   "execution_count": 21,
   "id": "068485c9",
   "metadata": {},
   "outputs": [
    {
     "name": "stdout",
     "output_type": "stream",
     "text": [
      "Monday\n",
      "Tuesday\n",
      "Wednesday\n",
      "Thursday\n",
      "Friday\n",
      "Saturday\n",
      "Sunday\n"
     ]
    }
   ],
   "source": [
    "class WeekdayIterator(object):\n",
    "    \"\"\"Iterator over the weekdays.\"\"\"\n",
    "    def __init__(self):\n",
    "        self.i=0           # Start from Monday\n",
    "        self.weekdays = (\"Monday\",\"Tuesday\",\"Wednesday\",\"Thursday\",\"Friday\",\"Saturday\",\"Sunday\")\n",
    "    def __iter__(self):    # If this object were a container, then this method would return the iterator over the \n",
    "                           # elements of the container.\n",
    "        return self        # However, this object is already an iterator, hence we return self.\n",
    "    def __next__(self):    # Returns the next weekday\n",
    "        if self.i == 7:    \n",
    "            raise StopIteration # Signal that all weekdays were already iterated over\n",
    "        else:\n",
    "            weekday = self.weekdays[self.i]\n",
    "            self.i += 1\n",
    "            return weekday\n",
    "        \n",
    "for w in WeekdayIterator():\n",
    "    print(w)"
   ]
  },
  {
   "cell_type": "code",
   "execution_count": 22,
   "id": "68a2b395",
   "metadata": {},
   "outputs": [
    {
     "name": "stdout",
     "output_type": "stream",
     "text": [
      "efg is a sequence\n",
      "[1, 2, 3] is a sequence\n",
      "(4, 5) is a sequence\n",
      "<__main__.WeekdayIterator object at 0x0000029162225290> is not a sequence\n"
     ]
    }
   ],
   "source": [
    "from collections import abc  # Get the abstract base classes\n",
    "containers = [\"efg\", [1,2,3], (4,5), WeekdayIterator()]\n",
    "for c in containers:\n",
    "    if isinstance(c, abc.Sequence):\n",
    "        print(c, \"is a sequence\")\n",
    "    else:\n",
    "        print(c, \"is not a sequence\")"
   ]
  },
  {
   "cell_type": "code",
   "execution_count": 23,
   "id": "5c22ca6c",
   "metadata": {},
   "outputs": [
    {
     "data": {
      "text/plain": [
       "True"
      ]
     },
     "execution_count": 23,
     "metadata": {},
     "output_type": "execute_result"
    }
   ],
   "source": [
    "isinstance(WeekdayIterator(), abc.Iterable)"
   ]
  },
  {
   "cell_type": "code",
   "execution_count": 24,
   "id": "309a9fba",
   "metadata": {},
   "outputs": [
    {
     "name": "stdout",
     "output_type": "stream",
     "text": [
      "Index 0, day 26, month 2\n",
      "Index 1, day 27, month 2\n",
      "Index 2, day 28, month 2\n",
      "Index 3, day 1, month 3\n",
      "Index 4, day 2, month 3\n"
     ]
    }
   ],
   "source": [
    "def mydate(day=1, month=1):   # Generates dates starting from the given date\n",
    "    lengths=(31,28,31,30,31,30,31,31,30,31,30,31)   # How many days in a month\n",
    "    first_day=day\n",
    "    for m in range(month, 13):\n",
    "        for d in range(first_day, lengths[m-1] + 1):\n",
    "            yield (d, m)\n",
    "        first_day=1\n",
    "# Create the generator by calling the function:        \n",
    "gen = mydate(26, 2)   # Start from 26th of February\n",
    "for i, (day, month) in enumerate(gen):   \n",
    "    if i == 5: break                 # Print only the first five dates from the generator\n",
    "    print(f\"Index {i}, day {day}, month {month}\")"
   ]
  },
  {
   "cell_type": "code",
   "execution_count": null,
   "id": "d08b59c3",
   "metadata": {},
   "outputs": [],
   "source": []
  }
 ],
 "metadata": {
  "kernelspec": {
   "display_name": "Python 3 (ipykernel)",
   "language": "python",
   "name": "python3"
  },
  "language_info": {
   "codemirror_mode": {
    "name": "ipython",
    "version": 3
   },
   "file_extension": ".py",
   "mimetype": "text/x-python",
   "name": "python",
   "nbconvert_exporter": "python",
   "pygments_lexer": "ipython3",
   "version": "3.11.5"
  }
 },
 "nbformat": 4,
 "nbformat_minor": 5
}
