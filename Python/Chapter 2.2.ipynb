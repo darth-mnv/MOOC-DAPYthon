{
 "cells": [
  {
   "cell_type": "code",
   "execution_count": 1,
   "id": "d965b213",
   "metadata": {},
   "outputs": [],
   "source": [
    "import numpy as np"
   ]
  },
  {
   "cell_type": "code",
   "execution_count": 2,
   "id": "1d13694e",
   "metadata": {},
   "outputs": [
    {
     "data": {
      "text/plain": [
       "array([1, 2, 3])"
      ]
     },
     "execution_count": 2,
     "metadata": {},
     "output_type": "execute_result"
    }
   ],
   "source": [
    "np.array([1,2,3])   # one dimensional array"
   ]
  },
  {
   "cell_type": "code",
   "execution_count": 3,
   "id": "409cc17d",
   "metadata": {},
   "outputs": [
    {
     "data": {
      "text/plain": [
       "array([[1, 2, 3],\n",
       "       [4, 5, 6]])"
      ]
     },
     "execution_count": 3,
     "metadata": {},
     "output_type": "execute_result"
    }
   ],
   "source": [
    "np.array([[1,2,3], [4,5,6]])"
   ]
  },
  {
   "cell_type": "code",
   "execution_count": 4,
   "id": "13496904",
   "metadata": {},
   "outputs": [
    {
     "data": {
      "text/plain": [
       "array([[[1, 2],\n",
       "        [3, 4]],\n",
       "\n",
       "       [[5, 6],\n",
       "        [7, 8]]])"
      ]
     },
     "execution_count": 4,
     "metadata": {},
     "output_type": "execute_result"
    }
   ],
   "source": [
    "np.array([[[1,2], [3,4]], [[5,6], [7,8]]])"
   ]
  },
  {
   "cell_type": "code",
   "execution_count": 5,
   "id": "e9ea1ab7",
   "metadata": {},
   "outputs": [
    {
     "data": {
      "text/plain": [
       "array([[0., 0., 0., 0.],\n",
       "       [0., 0., 0., 0.],\n",
       "       [0., 0., 0., 0.]])"
      ]
     },
     "execution_count": 5,
     "metadata": {},
     "output_type": "execute_result"
    }
   ],
   "source": [
    "np.zeros((3,4))"
   ]
  },
  {
   "cell_type": "code",
   "execution_count": 6,
   "id": "e5191fbb",
   "metadata": {},
   "outputs": [
    {
     "data": {
      "text/plain": [
       "array([[0, 0, 0, 0],\n",
       "       [0, 0, 0, 0],\n",
       "       [0, 0, 0, 0]])"
      ]
     },
     "execution_count": 6,
     "metadata": {},
     "output_type": "execute_result"
    }
   ],
   "source": [
    "np.zeros((3,4), dtype=int)"
   ]
  },
  {
   "cell_type": "code",
   "execution_count": 7,
   "id": "19a40cf2",
   "metadata": {},
   "outputs": [
    {
     "data": {
      "text/plain": [
       "array([[1., 1., 1.],\n",
       "       [1., 1., 1.]])"
      ]
     },
     "execution_count": 7,
     "metadata": {},
     "output_type": "execute_result"
    }
   ],
   "source": [
    "np.ones((2,3))"
   ]
  },
  {
   "cell_type": "code",
   "execution_count": 8,
   "id": "741f0c48",
   "metadata": {},
   "outputs": [
    {
     "data": {
      "text/plain": [
       "array([[7, 7, 7],\n",
       "       [7, 7, 7]])"
      ]
     },
     "execution_count": 8,
     "metadata": {},
     "output_type": "execute_result"
    }
   ],
   "source": [
    "np.full((2,3), fill_value=7)"
   ]
  },
  {
   "cell_type": "code",
   "execution_count": 9,
   "id": "c1268488",
   "metadata": {},
   "outputs": [
    {
     "data": {
      "text/plain": [
       "array([[6.23042070e-307, 4.67296746e-307, 1.69121096e-306,\n",
       "        4.00530950e-307],\n",
       "       [2.67014974e-306, 1.42413555e-306, 1.78019082e-306,\n",
       "        1.37959740e-306]])"
      ]
     },
     "execution_count": 9,
     "metadata": {},
     "output_type": "execute_result"
    }
   ],
   "source": [
    "np.empty((2,4))"
   ]
  },
  {
   "cell_type": "code",
   "execution_count": 10,
   "id": "841818b2",
   "metadata": {},
   "outputs": [
    {
     "data": {
      "text/plain": [
       "array([[1, 0, 0, 0, 0],\n",
       "       [0, 1, 0, 0, 0],\n",
       "       [0, 0, 1, 0, 0],\n",
       "       [0, 0, 0, 1, 0],\n",
       "       [0, 0, 0, 0, 1]])"
      ]
     },
     "execution_count": 10,
     "metadata": {},
     "output_type": "execute_result"
    }
   ],
   "source": [
    "np.eye(5, dtype=int)"
   ]
  },
  {
   "cell_type": "code",
   "execution_count": 11,
   "id": "f8d71611",
   "metadata": {},
   "outputs": [
    {
     "data": {
      "text/plain": [
       "array([0, 2, 4, 6, 8])"
      ]
     },
     "execution_count": 11,
     "metadata": {},
     "output_type": "execute_result"
    }
   ],
   "source": [
    "np.arange(0,10,2)"
   ]
  },
  {
   "cell_type": "code",
   "execution_count": 12,
   "id": "21a950ff",
   "metadata": {},
   "outputs": [
    {
     "data": {
      "text/plain": [
       "array([0.        , 0.78539816, 1.57079633, 2.35619449, 3.14159265])"
      ]
     },
     "execution_count": 12,
     "metadata": {},
     "output_type": "execute_result"
    }
   ],
   "source": [
    "np.linspace(0, np.pi, 5)  # Evenly spaced range with 5 elements"
   ]
  },
  {
   "cell_type": "code",
   "execution_count": 13,
   "id": "2ce53626",
   "metadata": {},
   "outputs": [
    {
     "data": {
      "text/plain": [
       "array([[0.416681  , 0.03033418, 0.85047356, 0.69173796],\n",
       "       [0.05712428, 0.7267664 , 0.47977168, 0.16980349],\n",
       "       [0.6917932 , 0.30466285, 0.68006619, 0.51989499]])"
      ]
     },
     "execution_count": 13,
     "metadata": {},
     "output_type": "execute_result"
    }
   ],
   "source": [
    "np.random.random((3,4))          # Elements are uniformly distributed from half-open interval [0.0,1.0)"
   ]
  },
  {
   "cell_type": "code",
   "execution_count": 14,
   "id": "deac0a7d",
   "metadata": {},
   "outputs": [
    {
     "data": {
      "text/plain": [
       "array([[-0.59884003,  1.04513973, -1.54714933, -0.17659387],\n",
       "       [ 0.42562835, -0.1297255 ,  1.0291401 , -1.36940553],\n",
       "       [-2.00673162,  0.06423799,  1.01404371, -1.95586565]])"
      ]
     },
     "execution_count": 14,
     "metadata": {},
     "output_type": "execute_result"
    }
   ],
   "source": [
    "np.random.normal(0, 1, (3,4))    # Elements are normally distributed with mean 0 and standard deviation 1"
   ]
  },
  {
   "cell_type": "code",
   "execution_count": 15,
   "id": "cee69d85",
   "metadata": {},
   "outputs": [
    {
     "data": {
      "text/plain": [
       "array([[ 5,  1, -2,  5],\n",
       "       [ 5, -1,  7, -1],\n",
       "       [ 7,  8,  3, -1]])"
      ]
     },
     "execution_count": 15,
     "metadata": {},
     "output_type": "execute_result"
    }
   ],
   "source": [
    "np.random.randint(-2, 10, (3,4))  # Elements are uniformly distributed integers from the half-open interval [-2,10)"
   ]
  },
  {
   "cell_type": "code",
   "execution_count": 16,
   "id": "b390c608",
   "metadata": {},
   "outputs": [
    {
     "name": "stdout",
     "output_type": "stream",
     "text": [
      "[44 47 64 67 67  9 83 21 36 87]\n",
      "[ 1.26611853 -0.50587654  2.54520078  1.08081191  0.48431215  0.57914048\n",
      " -0.18158257  1.41020463 -0.37447169  0.27519832]\n"
     ]
    }
   ],
   "source": [
    "np.random.seed(0)\n",
    "print(np.random.randint(0, 100, 10))\n",
    "print(np.random.normal(0, 1, 10))"
   ]
  },
  {
   "cell_type": "code",
   "execution_count": 17,
   "id": "c6083421",
   "metadata": {},
   "outputs": [
    {
     "data": {
      "text/plain": [
       "array([66, 92, 98, 17, 83, 57, 86, 97, 96, 47])"
      ]
     },
     "execution_count": 17,
     "metadata": {},
     "output_type": "execute_result"
    }
   ],
   "source": [
    "new_generator = np.random.RandomState(seed=123)  # RandomState is a class, so we give the seed to its constructor\n",
    "new_generator.randint(0, 100, 10)"
   ]
  },
  {
   "cell_type": "code",
   "execution_count": 18,
   "id": "33639f4d",
   "metadata": {},
   "outputs": [],
   "source": [
    "def info(name, a):\n",
    "    print(f\"{name} has dim {a.ndim}, shape {a.shape}, size {a.size}, and dtype {a.dtype}:\")\n",
    "    print(a)"
   ]
  },
  {
   "cell_type": "code",
   "execution_count": 19,
   "id": "29c703f8",
   "metadata": {},
   "outputs": [
    {
     "name": "stdout",
     "output_type": "stream",
     "text": [
      "b has dim 2, shape (2, 3), size 6, and dtype int32:\n",
      "[[1 2 3]\n",
      " [4 5 6]]\n"
     ]
    }
   ],
   "source": [
    "b=np.array([[1,2,3], [4,5,6]])\n",
    "info(\"b\", b)"
   ]
  },
  {
   "cell_type": "code",
   "execution_count": 20,
   "id": "404c8ba3",
   "metadata": {},
   "outputs": [
    {
     "name": "stdout",
     "output_type": "stream",
     "text": [
      "c has dim 3, shape (2, 2, 3), size 12, and dtype int32:\n",
      "[[[1 2 3]\n",
      "  [4 5 6]]\n",
      "\n",
      " [[1 2 3]\n",
      "  [4 5 6]]]\n"
     ]
    }
   ],
   "source": [
    "c=np.array([b, b])          # Creates a 3-dimensional array\n",
    "info(\"c\", c)"
   ]
  },
  {
   "cell_type": "code",
   "execution_count": 21,
   "id": "ab83f09d",
   "metadata": {},
   "outputs": [
    {
     "name": "stdout",
     "output_type": "stream",
     "text": [
      "d has dim 2, shape (1, 4), size 4, and dtype int32:\n",
      "[[1 2 3 4]]\n"
     ]
    }
   ],
   "source": [
    "d=np.array([[1,2,3,4]])                # a row vector\n",
    "info(\"d\", d)"
   ]
  },
  {
   "cell_type": "code",
   "execution_count": 22,
   "id": "1b2216ea",
   "metadata": {},
   "outputs": [
    {
     "name": "stdout",
     "output_type": "stream",
     "text": [
      "4\n",
      "9\n"
     ]
    }
   ],
   "source": [
    "a=np.array([1,4,2,7,9,5])\n",
    "print(a[1])\n",
    "print(a[-2])"
   ]
  },
  {
   "cell_type": "code",
   "execution_count": 23,
   "id": "cddb5440",
   "metadata": {},
   "outputs": [
    {
     "name": "stdout",
     "output_type": "stream",
     "text": [
      "[[1 2 3]\n",
      " [4 5 6]]\n",
      "6\n",
      "3\n"
     ]
    }
   ],
   "source": [
    "b=np.array([[1,2,3], [4,5,6]])\n",
    "print(b)\n",
    "print(b[1,2])    # row index 1, column index 2\n",
    "print(b[0,-1])   # row index 0, column index -1"
   ]
  },
  {
   "cell_type": "code",
   "execution_count": 24,
   "id": "2dbd3cf5",
   "metadata": {},
   "outputs": [
    {
     "name": "stdout",
     "output_type": "stream",
     "text": [
      "[[10  2  3]\n",
      " [ 4  5  6]]\n"
     ]
    }
   ],
   "source": [
    "# As with lists, modification through indexing is possible\n",
    "b[0,0] = 10\n",
    "print(b)"
   ]
  },
  {
   "cell_type": "code",
   "execution_count": 25,
   "id": "3220cc49",
   "metadata": {},
   "outputs": [
    {
     "name": "stdout",
     "output_type": "stream",
     "text": [
      "[10  2  3]\n",
      "[4 5 6]\n"
     ]
    }
   ],
   "source": [
    "print(b[0])    # First row\n",
    "print(b[1])    # Second row"
   ]
  },
  {
   "cell_type": "code",
   "execution_count": 26,
   "id": "d75119f2",
   "metadata": {},
   "outputs": [
    {
     "name": "stdout",
     "output_type": "stream",
     "text": [
      "[1 4 2 7 9 5]\n",
      "[4 2]\n",
      "[5 9 7 2 4 1]\n"
     ]
    }
   ],
   "source": [
    "print(a)\n",
    "print(a[1:3])\n",
    "print(a[::-1])    # Reverses the array"
   ]
  },
  {
   "cell_type": "code",
   "execution_count": 27,
   "id": "ac09e3b6",
   "metadata": {},
   "outputs": [
    {
     "name": "stdout",
     "output_type": "stream",
     "text": [
      "[[10  2  3]\n",
      " [ 4  5  6]]\n",
      "[10  4]\n",
      "[10  2  3]\n",
      "[[2 3]\n",
      " [5 6]]\n"
     ]
    }
   ],
   "source": [
    "print(b)\n",
    "print(b[:,0])\n",
    "print(b[0,:])\n",
    "print(b[:,1:])"
   ]
  },
  {
   "cell_type": "code",
   "execution_count": 28,
   "id": "30677c47",
   "metadata": {},
   "outputs": [
    {
     "name": "stdout",
     "output_type": "stream",
     "text": [
      "[[10  7  7]\n",
      " [ 4  7  7]]\n"
     ]
    }
   ],
   "source": [
    "b[:,1:] = 7\n",
    "print(b)"
   ]
  },
  {
   "cell_type": "code",
   "execution_count": 29,
   "id": "83a1ec1c",
   "metadata": {},
   "outputs": [
    {
     "name": "stdout",
     "output_type": "stream",
     "text": [
      "[10  4]\n",
      "[4 7 7]\n"
     ]
    }
   ],
   "source": [
    "print(b[:,0])    # First column\n",
    "print(b[1,:])    # Second row"
   ]
  },
  {
   "cell_type": "code",
   "execution_count": 30,
   "id": "13822e48",
   "metadata": {},
   "outputs": [
    {
     "name": "stdout",
     "output_type": "stream",
     "text": [
      "anew has dim 2, shape (3, 3), size 9, and dtype int32:\n",
      "[[0 1 2]\n",
      " [3 4 5]\n",
      " [6 7 8]]\n",
      "a has dim 1, shape (9,), size 9, and dtype int32:\n",
      "[0 1 2 3 4 5 6 7 8]\n"
     ]
    }
   ],
   "source": [
    "a=np.arange(9)\n",
    "anew=a.reshape(3,3)\n",
    "info(\"anew\", anew)\n",
    "info(\"a\", a)"
   ]
  },
  {
   "cell_type": "code",
   "execution_count": 31,
   "id": "eea5e669",
   "metadata": {},
   "outputs": [
    {
     "name": "stdout",
     "output_type": "stream",
     "text": [
      "d has dim 1, shape (4,), size 4, and dtype int32:\n",
      "[0 1 2 3]\n",
      "dr has dim 2, shape (1, 4), size 4, and dtype int32:\n",
      "[[0 1 2 3]]\n",
      "dc has dim 2, shape (4, 1), size 4, and dtype int32:\n",
      "[[0]\n",
      " [1]\n",
      " [2]\n",
      " [3]]\n"
     ]
    }
   ],
   "source": [
    "d=np.arange(4)             # 1d array\n",
    "dr=d.reshape(1,4)          # row vector\n",
    "dc=d.reshape(4,1)          # column vector\n",
    "info(\"d\", d)\n",
    "info(\"dr\", dr)\n",
    "info(\"dc\", dc)"
   ]
  },
  {
   "cell_type": "code",
   "execution_count": 32,
   "id": "31d8e813",
   "metadata": {},
   "outputs": [
    {
     "name": "stdout",
     "output_type": "stream",
     "text": [
      "d has dim 1, shape (4,), size 4, and dtype int32:\n",
      "[0 1 2 3]\n",
      "drow has dim 2, shape (4, 1), size 4, and dtype int32:\n",
      "[[0]\n",
      " [1]\n",
      " [2]\n",
      " [3]]\n",
      "drow has dim 2, shape (1, 4), size 4, and dtype int32:\n",
      "[[0 1 2 3]]\n",
      "dcol has dim 2, shape (4, 1), size 4, and dtype int32:\n",
      "[[0]\n",
      " [1]\n",
      " [2]\n",
      " [3]]\n"
     ]
    }
   ],
   "source": [
    "info(\"d\", d)\n",
    "info(\"drow\", d[:, np.newaxis])\n",
    "info(\"drow\", d[np.newaxis, :])\n",
    "info(\"dcol\", d[:, np.newaxis])"
   ]
  },
  {
   "cell_type": "code",
   "execution_count": 33,
   "id": "df1b4f72",
   "metadata": {},
   "outputs": [
    {
     "name": "stdout",
     "output_type": "stream",
     "text": [
      "a has shape (2,): [0 1]\n",
      "b has shape (3,): [2 3 4]\n"
     ]
    },
    {
     "data": {
      "text/plain": [
       "array([0, 1, 2, 3, 4])"
      ]
     },
     "execution_count": 33,
     "metadata": {},
     "output_type": "execute_result"
    }
   ],
   "source": [
    "a=np.arange(2)\n",
    "b=np.arange(2,5)\n",
    "print(f\"a has shape {a.shape}: {a}\")\n",
    "print(f\"b has shape {b.shape}: {b}\")\n",
    "np.concatenate((a,b))  # concatenating 1d arrays"
   ]
  },
  {
   "cell_type": "code",
   "execution_count": 34,
   "id": "2292db15",
   "metadata": {},
   "outputs": [
    {
     "name": "stdout",
     "output_type": "stream",
     "text": [
      "c has shape (2, 2):\n",
      "[[1 2]\n",
      " [3 4]]\n"
     ]
    },
    {
     "data": {
      "text/plain": [
       "array([[1, 2],\n",
       "       [3, 4],\n",
       "       [1, 2],\n",
       "       [3, 4]])"
      ]
     },
     "execution_count": 34,
     "metadata": {},
     "output_type": "execute_result"
    }
   ],
   "source": [
    "c=np.arange(1,5).reshape(2,2)\n",
    "print(f\"c has shape {c.shape}:\", c, sep=\"\\n\")\n",
    "np.concatenate((c,c))   # concatenating 2d arrays"
   ]
  },
  {
   "cell_type": "code",
   "execution_count": 35,
   "id": "78c630c6",
   "metadata": {},
   "outputs": [
    {
     "data": {
      "text/plain": [
       "array([[1, 2, 1, 2],\n",
       "       [3, 4, 3, 4]])"
      ]
     },
     "execution_count": 35,
     "metadata": {},
     "output_type": "execute_result"
    }
   ],
   "source": [
    "np.concatenate((c,c), axis=1)"
   ]
  },
  {
   "cell_type": "code",
   "execution_count": 36,
   "id": "a4c3a560",
   "metadata": {},
   "outputs": [
    {
     "name": "stdout",
     "output_type": "stream",
     "text": [
      "New row:\n",
      "[[1 2]\n",
      " [3 4]\n",
      " [0 1]]\n",
      "New column:\n",
      "[[1 2 0]\n",
      " [3 4 1]]\n"
     ]
    }
   ],
   "source": [
    "print(\"New row:\")\n",
    "print(np.concatenate((c,a.reshape(1,2))))\n",
    "print(\"New column:\")\n",
    "print(np.concatenate((c,a.reshape(2,1)), axis=1))"
   ]
  },
  {
   "cell_type": "code",
   "execution_count": 37,
   "id": "ca7f3d2a",
   "metadata": {},
   "outputs": [
    {
     "data": {
      "text/plain": [
       "array([[2, 3, 4],\n",
       "       [2, 3, 4]])"
      ]
     },
     "execution_count": 37,
     "metadata": {},
     "output_type": "execute_result"
    }
   ],
   "source": [
    "np.stack((b,b))"
   ]
  },
  {
   "cell_type": "code",
   "execution_count": 38,
   "id": "8817644c",
   "metadata": {},
   "outputs": [
    {
     "data": {
      "text/plain": [
       "array([[2, 2],\n",
       "       [3, 3],\n",
       "       [4, 4]])"
      ]
     },
     "execution_count": 38,
     "metadata": {},
     "output_type": "execute_result"
    }
   ],
   "source": [
    "np.stack((b,b), axis=1)"
   ]
  },
  {
   "cell_type": "code",
   "execution_count": 39,
   "id": "1699c2d7",
   "metadata": {},
   "outputs": [
    {
     "name": "stdout",
     "output_type": "stream",
     "text": [
      "d:\n",
      "[[ 0  1]\n",
      " [ 2  3]\n",
      " [ 4  5]\n",
      " [ 6  7]\n",
      " [ 8  9]\n",
      " [10 11]]\n",
      "d1:\n",
      "[[0 1]\n",
      " [2 3]\n",
      " [4 5]]\n",
      "d2:\n",
      "[[ 6  7]\n",
      " [ 8  9]\n",
      " [10 11]]\n"
     ]
    }
   ],
   "source": [
    "d=np.arange(12).reshape(6,2)\n",
    "print(\"d:\")\n",
    "print(d)\n",
    "d1,d2 = np.split(d, 2)\n",
    "print(\"d1:\")\n",
    "print(d1)\n",
    "print(\"d2:\")\n",
    "print(d2)"
   ]
  },
  {
   "cell_type": "code",
   "execution_count": 40,
   "id": "5f1e0d1e",
   "metadata": {},
   "outputs": [
    {
     "name": "stdout",
     "output_type": "stream",
     "text": [
      "d:\n",
      "[[ 0  1  2  3  4  5]\n",
      " [ 6  7  8  9 10 11]]\n",
      "part 0:\n",
      "[[0 1]\n",
      " [6 7]]\n",
      "part 1:\n",
      "[[2]\n",
      " [8]]\n",
      "part 2:\n",
      "[[ 3  4]\n",
      " [ 9 10]]\n",
      "part 3:\n",
      "[[ 5]\n",
      " [11]]\n"
     ]
    }
   ],
   "source": [
    "d=np.arange(12).reshape(2,6)\n",
    "print(\"d:\")\n",
    "print(d)\n",
    "parts=np.split(d, (2,3,5), axis=1)\n",
    "for i, p in enumerate(parts):\n",
    "    print(\"part %i:\" % i)\n",
    "    print(p)"
   ]
  },
  {
   "cell_type": "code",
   "execution_count": 41,
   "id": "24e8d9f1",
   "metadata": {},
   "outputs": [
    {
     "name": "stdout",
     "output_type": "stream",
     "text": [
      "[2, 10.4, 'abab']\n"
     ]
    }
   ],
   "source": [
    "L=[1, 5.2, \"ab\"]\n",
    "L2=[]\n",
    "for x in L:\n",
    "    L2.append(x*2)\n",
    "print(L2)"
   ]
  },
  {
   "cell_type": "code",
   "execution_count": 42,
   "id": "e81df764",
   "metadata": {},
   "outputs": [
    {
     "name": "stdout",
     "output_type": "stream",
     "text": [
      "[ 4.2 10.  34.4]\n"
     ]
    }
   ],
   "source": [
    "a=np.array([2.1, 5.0, 17.2])\n",
    "a2=a*2\n",
    "print(a2)"
   ]
  },
  {
   "cell_type": "code",
   "execution_count": 43,
   "id": "ef32fcd4",
   "metadata": {},
   "outputs": [
    {
     "name": "stdout",
     "output_type": "stream",
     "text": [
      "[   4.41   -80.    -710.016]\n"
     ]
    }
   ],
   "source": [
    "b=np.array([-1, 3.2, 2.4])\n",
    "print(-a**2 * b)"
   ]
  },
  {
   "cell_type": "code",
   "execution_count": 44,
   "id": "5b505340",
   "metadata": {},
   "outputs": [
    {
     "name": "stdout",
     "output_type": "stream",
     "text": [
      "[1.  3.2 2.4]\n",
      "[ 0.54030231 -0.99829478 -0.73739372]\n",
      "[ 0.36787944 24.5325302  11.02317638]\n",
      "[0.         1.67807191 1.26303441]\n"
     ]
    }
   ],
   "source": [
    "print(np.abs(b))\n",
    "print(np.cos(b))\n",
    "print(np.exp(b))\n",
    "print(np.log2(np.abs(b)))"
   ]
  },
  {
   "cell_type": "code",
   "execution_count": 45,
   "id": "e0d15933",
   "metadata": {},
   "outputs": [
    {
     "name": "stdout",
     "output_type": "stream",
     "text": [
      "[[ 72 -53  17  92 -33]\n",
      " [ 95   3 -91 -79 -64]\n",
      " [-13 -30 -12  40 -42]\n",
      " [ 93 -61 -13  74 -12]]\n",
      "Minimum: -91, maximum: 95\n",
      "Sum: -17\n",
      "Mean: -0.85, standard deviation: 58.39886557117355\n"
     ]
    }
   ],
   "source": [
    "np.random.seed(0)\n",
    "a=np.random.randint(-100, 100, (4,5))\n",
    "print(a)\n",
    "print(f\"Minimum: {a.min()}, maximum: {a.max()}\")\n",
    "print(f\"Sum: {a.sum()}\")\n",
    "print(f\"Mean: {a.mean()}, standard deviation: {a.std()}\")"
   ]
  },
  {
   "cell_type": "code",
   "execution_count": 46,
   "id": "eb6de741",
   "metadata": {},
   "outputs": [
    {
     "name": "stdout",
     "output_type": "stream",
     "text": [
      "[[5 6 8 6]\n",
      " [1 6 4 8]\n",
      " [1 8 5 1]]\n",
      "Column sums: [ 7 20 17 15]\n",
      "Row sums: [25 19 15]\n"
     ]
    }
   ],
   "source": [
    "np.random.seed(9)\n",
    "b=np.random.randint(0, 10, (3,4))\n",
    "print(b)\n",
    "print(\"Column sums:\", b.sum(axis=0))\n",
    "print(\"Row sums:\", b.sum(axis=1))"
   ]
  },
  {
   "cell_type": "code",
   "execution_count": 47,
   "id": "250e0ac6",
   "metadata": {},
   "outputs": [
    {
     "name": "stdout",
     "output_type": "stream",
     "text": [
      "2.71 µs ± 39.9 ns per loop (mean ± std. dev. of 7 runs, 100,000 loops each)\n"
     ]
    }
   ],
   "source": [
    "a=np.arange(1000)\n",
    "%timeit np.sum(a)"
   ]
  },
  {
   "cell_type": "code",
   "execution_count": 48,
   "id": "cb9b5ca6",
   "metadata": {},
   "outputs": [
    {
     "name": "stdout",
     "output_type": "stream",
     "text": [
      "42.4 µs ± 1.11 µs per loop (mean ± std. dev. of 7 runs, 10,000 loops each)\n"
     ]
    }
   ],
   "source": [
    "%timeit sum(a)"
   ]
  },
  {
   "cell_type": "code",
   "execution_count": 49,
   "id": "e981e634",
   "metadata": {},
   "outputs": [
    {
     "data": {
      "text/plain": [
       "array([4, 5, 6])"
      ]
     },
     "execution_count": 49,
     "metadata": {},
     "output_type": "execute_result"
    }
   ],
   "source": [
    "np.arange(3) + np.array([4])"
   ]
  },
  {
   "cell_type": "code",
   "execution_count": 50,
   "id": "1865d775",
   "metadata": {},
   "outputs": [
    {
     "data": {
      "text/plain": [
       "array([4, 5, 6])"
      ]
     },
     "execution_count": 50,
     "metadata": {},
     "output_type": "execute_result"
    }
   ],
   "source": [
    "np.arange(3) + 4"
   ]
  },
  {
   "cell_type": "code",
   "execution_count": 51,
   "id": "d214aedf",
   "metadata": {},
   "outputs": [
    {
     "name": "stdout",
     "output_type": "stream",
     "text": [
      "a:\n",
      "[[5 5 5]\n",
      " [5 5 5]\n",
      " [5 5 5]]\n",
      "b: [0 1 2]\n",
      "a+b:\n",
      "[[5 6 7]\n",
      " [5 6 7]\n",
      " [5 6 7]]\n"
     ]
    }
   ],
   "source": [
    "a=np.full((3,3), 5)\n",
    "b=np.arange(3)\n",
    "print(\"a:\", a, sep=\"\\n\")\n",
    "print(\"b:\", b)\n",
    "print(\"a+b:\", a+b, sep=\"\\n\")"
   ]
  },
  {
   "cell_type": "code",
   "execution_count": 52,
   "id": "a33bac28",
   "metadata": {},
   "outputs": [
    {
     "data": {
      "text/plain": [
       "array([[0, 1, 2],\n",
       "       [0, 1, 2],\n",
       "       [0, 1, 2]])"
      ]
     },
     "execution_count": 52,
     "metadata": {},
     "output_type": "execute_result"
    }
   ],
   "source": [
    "np.array([[0, 1, 2],\n",
    "       [0, 1, 2],\n",
    "       [0, 1, 2]])"
   ]
  },
  {
   "cell_type": "code",
   "execution_count": 53,
   "id": "d94d4fd2",
   "metadata": {},
   "outputs": [
    {
     "name": "stdout",
     "output_type": "stream",
     "text": [
      "a has dim 1, shape (3,), size 3, and dtype int32:\n",
      "[0 1 2]\n",
      "b has dim 2, shape (3, 1), size 3, and dtype int32:\n",
      "[[0]\n",
      " [1]\n",
      " [2]]\n",
      "a+b has dim 2, shape (3, 3), size 9, and dtype int32:\n",
      "[[0 1 2]\n",
      " [1 2 3]\n",
      " [2 3 4]]\n"
     ]
    }
   ],
   "source": [
    "a=np.arange(3)\n",
    "b=np.arange(3).reshape((3,1))\n",
    "info(\"a\", a)\n",
    "info(\"b\", b)\n",
    "info(\"a+b\", a+b)"
   ]
  },
  {
   "cell_type": "code",
   "execution_count": 54,
   "id": "516db660",
   "metadata": {},
   "outputs": [
    {
     "name": "stdout",
     "output_type": "stream",
     "text": [
      "broadcasted_a has dim 2, shape (3, 3), size 9, and dtype int32:\n",
      "[[0 1 2]\n",
      " [0 1 2]\n",
      " [0 1 2]]\n",
      "broadcasted_b has dim 2, shape (3, 3), size 9, and dtype int32:\n",
      "[[0 0 0]\n",
      " [1 1 1]\n",
      " [2 2 2]]\n"
     ]
    }
   ],
   "source": [
    "broadcasted_a, broadcasted_b = np.broadcast_arrays(a,b)\n",
    "info(\"broadcasted_a\", broadcasted_a)\n",
    "info(\"broadcasted_b\", broadcasted_b)"
   ]
  },
  {
   "cell_type": "code",
   "execution_count": 55,
   "id": "47dccde1",
   "metadata": {},
   "outputs": [
    {
     "name": "stderr",
     "output_type": "stream",
     "text": [
      "operands could not be broadcast together with shapes (3,) (2,) \n"
     ]
    }
   ],
   "source": [
    "a=np.array([1,2,3])\n",
    "b=np.array([4,5])\n",
    "try:\n",
    "    a+b                 # This does not work since it violates the rule 3 above.\n",
    "except ValueError as e:\n",
    "    import sys\n",
    "    print(e, file=sys.stderr)"
   ]
  },
  {
   "cell_type": "code",
   "execution_count": null,
   "id": "e924f9b9",
   "metadata": {},
   "outputs": [],
   "source": []
  }
 ],
 "metadata": {
  "kernelspec": {
   "display_name": "Python 3 (ipykernel)",
   "language": "python",
   "name": "python3"
  },
  "language_info": {
   "codemirror_mode": {
    "name": "ipython",
    "version": 3
   },
   "file_extension": ".py",
   "mimetype": "text/x-python",
   "name": "python",
   "nbconvert_exporter": "python",
   "pygments_lexer": "ipython3",
   "version": "3.11.5"
  }
 },
 "nbformat": 4,
 "nbformat_minor": 5
}
